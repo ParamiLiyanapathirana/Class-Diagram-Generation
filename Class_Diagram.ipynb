{
  "nbformat": 4,
  "nbformat_minor": 0,
  "metadata": {
    "colab": {
      "provenance": [],
      "authorship_tag": "ABX9TyOZYLcSwQln5Cy0Vk4KHk++",
      "include_colab_link": true
    },
    "kernelspec": {
      "name": "python3",
      "display_name": "Python 3"
    },
    "language_info": {
      "name": "python"
    }
  },
  "cells": [
    {
      "cell_type": "markdown",
      "metadata": {
        "id": "view-in-github",
        "colab_type": "text"
      },
      "source": [
        "<a href=\"https://colab.research.google.com/github/ParamiLiyanapathirana/Class-Diagram-Generation/blob/master/Class_Diagram.ipynb\" target=\"_parent\"><img src=\"https://colab.research.google.com/assets/colab-badge.svg\" alt=\"Open In Colab\"/></a>"
      ]
    },
    {
      "cell_type": "code",
      "source": [
        "import nltk\n",
        "import re\n",
        "from nltk.tokenize import sent_tokenize, word_tokenize\n",
        "import inflect"
      ],
      "metadata": {
        "id": "xpHYqddVfHbI"
      },
      "execution_count": null,
      "outputs": []
    },
    {
      "cell_type": "code",
      "source": [
        "import nltk\n",
        "nltk.download('punkt')\n",
        "import nltk\n",
        "nltk.download('averaged_perceptron_tagger')"
      ],
      "metadata": {
        "colab": {
          "base_uri": "https://localhost:8080/"
        },
        "id": "q1XLCAh7bW04",
        "outputId": "c59165ae-4ea0-480f-fae7-6fc3d71283e2"
      },
      "execution_count": null,
      "outputs": [
        {
          "output_type": "stream",
          "name": "stderr",
          "text": [
            "[nltk_data] Downloading package punkt to /root/nltk_data...\n",
            "[nltk_data]   Unzipping tokenizers/punkt.zip.\n",
            "[nltk_data] Downloading package averaged_perceptron_tagger to\n",
            "[nltk_data]     /root/nltk_data...\n",
            "[nltk_data]   Unzipping taggers/averaged_perceptron_tagger.zip.\n"
          ]
        },
        {
          "output_type": "execute_result",
          "data": {
            "text/plain": [
              "True"
            ]
          },
          "metadata": {},
          "execution_count": 2
        }
      ]
    },
    {
      "cell_type": "code",
      "source": [
        "p = inflect.engine()"
      ],
      "metadata": {
        "id": "LpaAtivzg9j3"
      },
      "execution_count": null,
      "outputs": []
    },
    {
      "cell_type": "code",
      "source": [
        "def classpre_processing(sentence_pre):  # method for Actor\n",
        "        sentence_pre = sentence_pre.replace(\"•\", \" \")\n",
        "        tokens = nltk.word_tokenize(sentence_pre)\n",
        "        simpletokens = [x.lower() for x in tokens]\n",
        "        tagged = nltk.pos_tag(simpletokens)\n",
        "        print(\"before pre-processing\")\n",
        "        print(tagged)\n",
        "        t = []\n",
        "        temp = \"\"\n",
        "        for indi, tag in enumerate(tagged):\n",
        "            if len(tagged) > indi + 1 and (\n",
        "                    tagged[indi - 1][1] == 'NN' or tagged[indi - 1][1] == 'NNS' or tagged[indi - 1][1] == 'JJ' or\n",
        "                    tagged[indi - 1][1] == 'RB') and (tagged[indi][1] == 'NNS' and tagged[indi][0] != 'users') and \\\n",
        "                    tagged[indi + 1][0] != '.':  # logs takes as 'NNS'\n",
        "                temp = nltk.pos_tag(\n",
        "                    nltk.word_tokenize(p.plural(tagged[indi - 1][0]) + \" \" + p.singular_noun(tagged[indi][0])))\n",
        "                if temp[1][1] == 'VBP':\n",
        "                    t.append((tagged[indi][0], temp[1][1]))\n",
        "                else:\n",
        "                    t.append(tuple(tag))\n",
        "                temp = \"\"\n",
        "            elif tagged[indi][1] == 'JJ' and tagged[indi][0] != 'many':  # Librarian takes as 'JJ'\n",
        "                temp = nltk.pos_tag(\n",
        "                    nltk.word_tokenize(p.plural(tagged[indi][0])))\n",
        "                if temp[0][1] == 'NNS':\n",
        "                    t.append((tagged[indi][0], temp[0][1]))\n",
        "                else:\n",
        "                    t.append(tuple(tag))\n",
        "                temp = \"\"\n",
        "            elif (len(tagged) > indi + 1) and tagged[indi][1] == 'RB' and (\n",
        "                    tagged[indi + 1][1] == 'VBP' or tagged[indi + 1][\n",
        "                1] == 'NNS'):  # Teacher teaches to the students. teacher takes as RB\n",
        "                temp = nltk.pos_tag(nltk.word_tokenize(p.plural(tagged[indi][0])))\n",
        "                if temp[0][1] == 'NNS':\n",
        "                    t.append((tagged[indi][0], temp[0][1]))\n",
        "                else:\n",
        "                    t.append(tuple(tag))\n",
        "                temp = \"\"\n",
        "            else:\n",
        "                t.append(tuple(tag))\n",
        "        tagged = t\n",
        "        print(\"After pre-processing\")\n",
        "        print(tagged)\n",
        "        return tagged"
      ],
      "metadata": {
        "id": "fFDQPxXbe8zX"
      },
      "execution_count": null,
      "outputs": []
    },
    {
      "cell_type": "code",
      "source": [
        "# Define some test sentences\n",
        "test_sentences = [\n",
        "    \"The quick brown fox jumps over the lazy dog. Students love to read books. Many librarians help students in the library. Teachers often teach multiple subjects. The wise old owl perched quietly on the branch.\"\n",
        "]\n",
        "\n",
        "# Process each sentence and print the extracted actors\n",
        "for sentence in test_sentences:\n",
        "    tagged = classpre_processing(sentence)\n",
        "    print(f\"Sentence: '{sentence}'\")\n",
        "    print(f\"Tagged: {tagged}\")\n",
        "    print()"
      ],
      "metadata": {
        "colab": {
          "base_uri": "https://localhost:8080/"
        },
        "id": "NSM2qEbrOTg9",
        "outputId": "9254d7d8-02a5-4710-8f37-a32fe420c517"
      },
      "execution_count": null,
      "outputs": [
        {
          "output_type": "stream",
          "name": "stdout",
          "text": [
            "before pre-processing\n",
            "[('the', 'DT'), ('quick', 'JJ'), ('brown', 'NN'), ('fox', 'NN'), ('jumps', 'VBZ'), ('over', 'IN'), ('the', 'DT'), ('lazy', 'JJ'), ('dog', 'NN'), ('.', '.'), ('students', 'NNS'), ('love', 'VBP'), ('to', 'TO'), ('read', 'VB'), ('books', 'NNS'), ('.', '.'), ('many', 'JJ'), ('librarians', 'NNS'), ('help', 'VBP'), ('students', 'NNS'), ('in', 'IN'), ('the', 'DT'), ('library', 'NN'), ('.', '.'), ('teachers', 'NNS'), ('often', 'RB'), ('teach', 'VBP'), ('multiple', 'JJ'), ('subjects', 'NNS'), ('.', '.'), ('the', 'DT'), ('wise', 'NN'), ('old', 'JJ'), ('owl', 'NN'), ('perched', 'VBD'), ('quietly', 'RB'), ('on', 'IN'), ('the', 'DT'), ('branch', 'NN'), ('.', '.')]\n",
            "After pre-processing\n",
            "[('the', 'DT'), ('quick', 'NNS'), ('brown', 'NN'), ('fox', 'NN'), ('jumps', 'VBZ'), ('over', 'IN'), ('the', 'DT'), ('lazy', 'NNS'), ('dog', 'NN'), ('.', '.'), ('students', 'NNS'), ('love', 'VBP'), ('to', 'TO'), ('read', 'VB'), ('books', 'NNS'), ('.', '.'), ('many', 'JJ'), ('librarians', 'NNS'), ('help', 'VBP'), ('students', 'NNS'), ('in', 'IN'), ('the', 'DT'), ('library', 'NN'), ('.', '.'), ('teachers', 'NNS'), ('often', 'NNS'), ('teach', 'VBP'), ('multiple', 'NNS'), ('subjects', 'NNS'), ('.', '.'), ('the', 'DT'), ('wise', 'NN'), ('old', 'NNS'), ('owl', 'NN'), ('perched', 'VBD'), ('quietly', 'RB'), ('on', 'IN'), ('the', 'DT'), ('branch', 'NN'), ('.', '.')]\n",
            "Sentence: 'The quick brown fox jumps over the lazy dog. Students love to read books. Many librarians help students in the library. Teachers often teach multiple subjects. The wise old owl perched quietly on the branch.'\n",
            "Tagged: [('the', 'DT'), ('quick', 'NNS'), ('brown', 'NN'), ('fox', 'NN'), ('jumps', 'VBZ'), ('over', 'IN'), ('the', 'DT'), ('lazy', 'NNS'), ('dog', 'NN'), ('.', '.'), ('students', 'NNS'), ('love', 'VBP'), ('to', 'TO'), ('read', 'VB'), ('books', 'NNS'), ('.', '.'), ('many', 'JJ'), ('librarians', 'NNS'), ('help', 'VBP'), ('students', 'NNS'), ('in', 'IN'), ('the', 'DT'), ('library', 'NN'), ('.', '.'), ('teachers', 'NNS'), ('often', 'NNS'), ('teach', 'VBP'), ('multiple', 'NNS'), ('subjects', 'NNS'), ('.', '.'), ('the', 'DT'), ('wise', 'NN'), ('old', 'NNS'), ('owl', 'NN'), ('perched', 'VBD'), ('quietly', 'RB'), ('on', 'IN'), ('the', 'DT'), ('branch', 'NN'), ('.', '.')]\n",
            "\n"
          ]
        }
      ]
    },
    {
      "cell_type": "code",
      "source": [
        "\n",
        "def pluralT(word):\n",
        "        if str(p.singular_noun(word)) == \"False\":#check if a given word is in its plural form using the singular_noun method\n",
        "            return False\n",
        "        else:\n",
        "            return True\n"
      ],
      "metadata": {
        "id": "F3BE9oGY-wn2"
      },
      "execution_count": null,
      "outputs": []
    },
    {
      "cell_type": "code",
      "source": [
        "def oneTwo(word):                                # if a word is plural and returns \"many\" if it is, otherwise it returns \"1\"\n",
        "        if pluralT(word):\n",
        "            print(pluralT(word))\n",
        "            return \"many\"\n",
        "        else:\n",
        "            return \"1\""
      ],
      "metadata": {
        "id": "fIQMWM8r-WzF"
      },
      "execution_count": null,
      "outputs": []
    },
    {
      "cell_type": "code",
      "source": [
        "def sing(word):                                 #return the singular form of a word if it is plural, otherwise it returns the word itself\n",
        "        if str(p.singular_noun(word)) == \"False\":\n",
        "            return word\n",
        "        else:\n",
        "            return p.singular_noun(word)"
      ],
      "metadata": {
        "id": "A53nHkzi_ArE"
      },
      "execution_count": null,
      "outputs": []
    },
    {
      "cell_type": "code",
      "source": [
        "def filtering_classess(sentence_for_classes):\n",
        "        classes = []\n",
        "        print(classes)\n",
        "        print(\"classes\")\n",
        "\n",
        "\n",
        "        taggedsent = classpre_processing(sentence_for_classes)\n",
        "\n",
        "\n",
        "        num = 1\n",
        "        one = \"\"\n",
        "        two = \"\"\n",
        "        for ind, word in enumerate(taggedsent):\n",
        "            one = oneTwo(taggedsent[ind][0])\n",
        "            if len(taggedsent) > 6:\n",
        "                two = oneTwo(taggedsent[ind - 6][0])\n",
        "            if (len(taggedsent) > 6) and (taggedsent[ind - 6][1] == 'NN' or taggedsent[ind - 6][1] == 'NNP'or taggedsent[ind-6][1] == 'NNS') and \\\n",
        "                    taggedsent[ind - 5][1] == 'VBZ' and taggedsent[ind - 4][1] == 'DT' and taggedsent[ind - 3][\n",
        "                0] == 'part' and taggedsent[ind - 2][0] == 'of' and taggedsent[ind - 1][1] == 'DT' and (\n",
        "                    taggedsent[ind][1] == 'NN' or taggedsent[ind][1] == 'NNP' or taggedsent[ind][1] == 'NNS'):#The manager oversees a part of the team\n",
        "                classes.append(taggedsent[ind - 6][0])  # Aggregation is identified\n",
        "                classes.append(taggedsent[ind][0])\n",
        "                if num == 1:\n",
        "                    classaggregation = sing(taggedsent[ind][0]) + \"\\\"\" + one + \"\\\" o-right- \\\"\" + two + \"\\\"\" + sing(taggedsent[ind - 6][0])#Team\"TEAM\" o-right- \"MANAGER\"Manager\n",
        "\n",
        "                    #num = 2\n",
        "                #elif num == 2:\n",
        "                    #classaggregation = sing(taggedsent[ind][0]) + \"\\\"\" + one + \"\\\" o-up- \\\"\" + two + \"\\\" \" + sing(taggedsent[ind - 6][0])\n",
        "\n",
        "                    #num = 3\n",
        "                #elif num == 3:\n",
        "                    #classaggregation = sing(taggedsent[ind][0]) + \"\\\"\" + one + \"\\\" o-left- \\\"\" + two + \"\\\"\" + sing(taggedsent[ind - 6][0])\n",
        "\n",
        "                    #num = 4\n",
        "                #elif num == 4:\n",
        "                    #classaggregation =sing(taggedsent[ind][0]) + \"\\\"\" + one + \"\\\" o-down- \\\"\" + two + \"\\\" \" + sing(taggedsent[ind - 6][0])\n",
        "\n",
        "                    #num = 1\n",
        "\n",
        "            elif (taggedsent[ind - 3][1] == 'NN' or taggedsent[ind - 3][1] == 'NNP') and taggedsent[ind - 2][                    #ex-The car is a vehicle.\n",
        "                0] == 'is' and (taggedsent[ind - 1][0] == 'a' or taggedsent[ind - 1][0] == 'an') and taggedsent[ind][\n",
        "                1] == 'NN' and taggedsent[ind][0] != 'part':\n",
        "                classes.append(taggedsent[ind - 3][0])  # inheritance is identified\n",
        "                classes.append(taggedsent[ind][0])\n",
        "\n",
        "\n",
        "            elif (taggedsent[ind - 1][1] == 'NN' or taggedsent[ind - 1][1] == 'NNS') and taggedsent[ind][1] == 'VBP':      # Example: \"Students study.\"\n",
        "                classes.append(taggedsent[ind - 1][0])\n",
        "\n",
        "            elif taggedsent[ind - 1][1] == 'NN' and (\n",
        "                    taggedsent[ind][1] == 'VBZ' and taggedsent[ind][0] != 'is'):  # e.g:has 'VBZ'\n",
        "                classes.append(taggedsent[ind - 1][0])                                                                    # Example: \"The car has wheels.\"\n",
        "\n",
        "            elif taggedsent[ind - 2][0] == 'the' and (\n",
        "                    taggedsent[ind - 1][1] == 'NN' or taggedsent[ind - 1][1] == 'NNS') and taggedsent[ind][1] == '.':            # Example: \"I saw the house.\"\n",
        "                classes.append(taggedsent[ind - 1][0])\n",
        "\n",
        "            elif taggedsent[ind - 3][1] == 'DT' and taggedsent[ind - 1][1] == 'NN' and taggedsent[ind][1] == '.':            # Example: \"This is the car.\"\n",
        "                classes.append(taggedsent[ind - 1][0])\n",
        "\n",
        "            elif (taggedsent[ind - 2][1] == 'CD' or taggedsent[ind - 2][0] == 'many' or taggedsent[ind - 2][\n",
        "                0] == 'any' or taggedsent[ind - 2][0] == 'multiple') and (\n",
        "                    taggedsent[ind - 1][1] == 'NN' or taggedsent[ind - 1][1] == 'NNS') and taggedsent[ind][1] == '.':             # Example: \"There are many books.\"\n",
        "                classes.append(taggedsent[ind - 1][0])\n",
        "\n",
        "            elif (taggedsent[ind - 1][1] == 'NN' or taggedsent[ind - 1][1] == 'NNS') and taggedsent[ind][\n",
        "                1] == 'VBZ':  # For identified (JJ)Nouns in preprocessing                                        # Example: \"The car runs.\"\n",
        "                classes.append(taggedsent[ind - 1][0])\n",
        "\n",
        "\n",
        "\n",
        "        templist = list()  #  remove duplicates and make all classes singular\n",
        "        returnlist = list()  # Not only singular.but remove duplicates.\n",
        "        for cl in classes:\n",
        "            if cl not in returnlist:\n",
        "                returnlist.append(cl)\n",
        "            info = \"\"\n",
        "            if str(p.singular_noun(cl)) == \"False\":\n",
        "                if cl not in templist:\n",
        "                    templist.append(cl)\n",
        "            else:\n",
        "                info = p.singular_noun(cl)\n",
        "                if info not in templist:\n",
        "                    templist.append(info)\n",
        "\n",
        "\n",
        "\n",
        "        return list(returnlist)\n"
      ],
      "metadata": {
        "id": "ZLGcqP-pjj-w"
      },
      "execution_count": null,
      "outputs": []
    },
    {
      "cell_type": "code",
      "source": [
        "text_scenario = \"Customer places an order. An order contains multiple items. Each item can be a product. Products have by types, color. Customers provide contact information including phone numbers and email addresses.\"\n",
        "\n",
        "\n",
        "filtered_classes = filtering_classess(text_scenario)\n",
        "print(filtered_classes)\n"
      ],
      "metadata": {
        "colab": {
          "base_uri": "https://localhost:8080/"
        },
        "id": "K-Xu9rX3TBTc",
        "outputId": "b2f0621c-ad9a-4b35-f3f9-6da562dba5a7"
      },
      "execution_count": null,
      "outputs": [
        {
          "output_type": "stream",
          "name": "stdout",
          "text": [
            "[]\n",
            "classes\n",
            "before pre-processing\n",
            "[('customer', 'NN'), ('places', 'NNS'), ('an', 'DT'), ('order', 'NN'), ('.', '.'), ('an', 'DT'), ('order', 'NN'), ('contains', 'VBZ'), ('multiple', 'JJ'), ('items', 'NNS'), ('.', '.'), ('each', 'DT'), ('item', 'NN'), ('can', 'MD'), ('be', 'VB'), ('a', 'DT'), ('product', 'NN'), ('.', '.'), ('products', 'NNS'), ('have', 'VBP'), ('by', 'IN'), ('types', 'NNS'), (',', ','), ('color', 'NN'), ('.', '.'), ('customers', 'NNS'), ('provide', 'VBP'), ('contact', 'JJ'), ('information', 'NN'), ('including', 'VBG'), ('phone', 'NN'), ('numbers', 'NNS'), ('and', 'CC'), ('email', 'NN'), ('addresses', 'NNS'), ('.', '.')]\n",
            "After pre-processing\n",
            "[('customer', 'NN'), ('places', 'VBP'), ('an', 'DT'), ('order', 'NN'), ('.', '.'), ('an', 'DT'), ('order', 'NN'), ('contains', 'VBZ'), ('multiple', 'NNS'), ('items', 'NNS'), ('.', '.'), ('each', 'DT'), ('item', 'NN'), ('can', 'MD'), ('be', 'VB'), ('a', 'DT'), ('product', 'NN'), ('.', '.'), ('products', 'NNS'), ('have', 'VBP'), ('by', 'IN'), ('types', 'NNS'), (',', ','), ('color', 'NN'), ('.', '.'), ('customers', 'NNS'), ('provide', 'VBP'), ('contact', 'NNS'), ('information', 'NN'), ('including', 'VBG'), ('phone', 'NN'), ('numbers', 'NNS'), ('and', 'CC'), ('email', 'NN'), ('addresses', 'NNS'), ('.', '.')]\n",
            "True\n",
            "True\n",
            "True\n",
            "True\n",
            "True\n",
            "True\n",
            "True\n",
            "True\n",
            "True\n",
            "True\n",
            "True\n",
            "True\n",
            "True\n",
            "True\n",
            "True\n",
            "True\n",
            "True\n",
            "True\n",
            "['customer', 'order', 'items', 'products', 'customers']\n"
          ]
        }
      ]
    },
    {
      "cell_type": "code",
      "source": [
        "def class_features(sentence_for_classes):\n",
        "\n",
        "        classarr = {}\n",
        "        taggedsent2 = classpre_processing(sentence_for_classes + \" . . . .\")\n",
        "        obclasses = filtering_classess(sentence_for_classes)\n",
        "\n",
        "        singularclasses = []\n",
        "        pluralclasses = []\n",
        "\n",
        "\n",
        "        for cla in obclasses:\n",
        "            if str(p.singular_noun(cla)) == \"False\":\n",
        "                singularclasses.append(cla)\n",
        "                pluralclasses.append(p.plural(cla))\n",
        "            else:\n",
        "                singularclasses.append(p.singular_noun(cla))\n",
        "                pluralclasses.append(cla)\n",
        "\n",
        "\n",
        "        for ob in obclasses:\n",
        "            attr = []\n",
        "\n",
        "            for ind, word in enumerate(taggedsent2):\n",
        "\n",
        "                if taggedsent2[ind - 2][0] == ob and (\n",
        "                        taggedsent2[ind - 1][1] == 'VBZ' and taggedsent2[ind - 1][0] != 'has') and (\n",
        "                        taggedsent2[ind][1] == 'VBN' or taggedsent2[ind][0] == 'been'):\n",
        "                    attr.append(\"V\" + taggedsent2[ind][0])                                                                           #The system is maintained properly.\n",
        "\n",
        "                elif taggedsent2[ind - 2][1] == 'DT' and taggedsent2[ind - 1][1] == 'JJ' and taggedsent2[ind][0] == ob:\n",
        "                    attr.append(\"J\" + taggedsent2[ind - 1][0])                                                                        #The important data was analyzed.   JJ-important\n",
        "\n",
        "                elif taggedsent2[ind - 1][0] == ob and (taggedsent2[ind][1] == 'VBP' and taggedsent2[ind][0] != 'are' and taggedsent2[ind][0] != 'have'):\n",
        "                    attr.append(\"V\" + taggedsent2[ind][0])                                                                             #Users submit forms.\n",
        "\n",
        "                elif taggedsent2[ind - 2][0] == ob and (\n",
        "                        taggedsent2[ind - 1][1] == 'VBZ' and taggedsent2[ind - 1][0] != 'is' and taggedsent2[ind - 1][\n",
        "                    0] != 'has' and taggedsent2[ind - 1][0] != 'contains') and (\n",
        "                        taggedsent2[ind][1] == 'DT' or taggedsent2[ind][1] == 'CD' or taggedsent2[ind][0] == 'many'):                #The system generates many reports.\n",
        "                    attr.append(\"V\" + taggedsent2[ind - 1][0])\n",
        "\n",
        "                elif taggedsent2[ind - 2][0] == ob and (\n",
        "                        (taggedsent2[ind - 1][1] == 'VBZ' and taggedsent2[ind - 1][0] != 'is') or (taggedsent2[ind - 1][1] == 'VBP' and taggedsent2[ind - 1][0] != 'are') or taggedsent2[ind - 1][\n",
        "                    1] == 'MD'):  # e.g.has,contains 'VBZ'       #The system should produce accurate results.Jaccurate (since accurate (JJ) is found) results (NNS) is found)\n",
        "                    tempind = ind\n",
        "                    while len(taggedsent2) > tempind:\n",
        "                        if (not (taggedsent2[tempind][0] not in obclasses)) or taggedsent2[tempind][0] == '.':\n",
        "                            break\n",
        "                        elif taggedsent2[tempind][1] == 'NN' or taggedsent2[tempind][1] == 'NNS' and (\n",
        "                                taggedsent2[tempind][0] != 'types' and taggedsent2[tempind][0] != 'many' and (\n",
        "                                taggedsent2[tempind][0] not in pluralclasses)):\n",
        "                            attr.append(\"J\" + taggedsent2[tempind][0])\n",
        "                        elif taggedsent2[tempind][1] == 'VBG' or (\n",
        "                                taggedsent2[tempind][1] == 'VBN' and taggedsent2[tempind][0] != 'been') or (\n",
        "                                taggedsent2[tempind][1] == 'VB' and taggedsent2[tempind][0] != 'be' and\n",
        "                                taggedsent2[tempind][0] != 'have') or taggedsent2[tempind][1] == 'VBD':\n",
        "                            attr.append(\"V\" + taggedsent2[tempind][0])\n",
        "                        tempind = tempind + 1\n",
        "\n",
        "                # Class Mapping\n",
        "                if (taggedsent2[ind - 1][1] == 'DT' or taggedsent2[ind - 1][1] == 'CD' or taggedsent2[ind - 1][\n",
        "                    1] == '.' or taggedsent2[ind - 1][1] == ',' or (ind == 0)) and taggedsent2[ind][0] == ob:\n",
        "                    tempind = ind + 1\n",
        "                    while len(taggedsent2) > tempind + 3:\n",
        "                        multiclassTF = False\n",
        "                        multiclass = \"\"\n",
        "                        if (not (p.singular_noun(taggedsent2[tempind + 2][0]) not in obclasses)):\n",
        "                            multiclassTF = True\n",
        "                            # multiclass = p.singular_noun(taggedsent2[tempind + 2][0])\n",
        "                        elif (not (taggedsent2[tempind + 2][0] not in obclasses)):\n",
        "                            multiclassTF = True\n",
        "                            # multiclass = taggedsent2[tempind+2][0]\n",
        "\n",
        "                        multiclassTF2 = False\n",
        "                        multiclass2 = \"\"\n",
        "                        if (not (p.singular_noun(taggedsent2[tempind + 3][0]) not in obclasses)):\n",
        "                            multiclassTF2 = True\n",
        "                            # multiclass2 = p.singular_noun(taggedsent2[tempind + 3][0])\n",
        "                        elif (not (taggedsent2[tempind + 3][0] not in obclasses)):\n",
        "                            multiclassTF2 = True\n",
        "                            # multiclass2 = taggedsent2[tempind + 3][0]\n",
        "\n",
        "                        multiclassTF3 = False\n",
        "                        multiclass3 = \"\"\n",
        "                        if len(taggedsent2) > tempind + 4 and (\n",
        "                        not (p.singular_noun(taggedsent2[tempind + 4][0]) not in obclasses)):\n",
        "                            multiclassTF3 = True\n",
        "                            # multiclass3 = p.singular_noun(taggedsent2[tempind + 4][0])\n",
        "                        elif len(taggedsent2) > tempind + 4 and (not (taggedsent2[tempind + 4][0] not in obclasses)):\n",
        "                            multiclassTF3 = True\n",
        "                            # multiclass3 = taggedsent2[tempind + 4][0]\n",
        "\n",
        "\n",
        "\n",
        "                        # print(\"-----------------------------------\"+ob +str(Class.pluralT(ob)) + taggedsent2[tempind][1]+str(taggedsent2[tempind][1] == 'VBP') + str(multiclassTF) + taggedsent2[tempind+2][0]+str(Class.pluralT(taggedsent2[tempind+2][0])))\n",
        "                        if (not (taggedsent2[tempind][0] not in obclasses)) or taggedsent2[tempind][1] == '.':\n",
        "                            break\n",
        "                        elif (not pluralT(ob)) and (\n",
        "                                taggedsent2[tempind][1] == 'VB' or taggedsent2[tempind][1] == 'VBN' or (                 #A user has an account.\n",
        "                                taggedsent2[tempind][1] == 'VBP' and taggedsent2[tempind][0] != 'are') or (\n",
        "                                        taggedsent2[tempind][1] == 'VBZ' and taggedsent2[tempind][0] != 'is')) and (\n",
        "                                taggedsent2[tempind + 1][1] == 'DT' or taggedsent2[tempind + 1][1] == 'CD') and (\n",
        "                        not pluralT(taggedsent2[tempind + 2][0])) and multiclassTF:\n",
        "                            classmapping = sing(ob) + \"\\\"1\\\" -- \\\"1\\\" \" + sing(\n",
        "                                taggedsent2[tempind + 2][0]) + \" : \" + taggedsent2[tempind][0]\n",
        "\n",
        "                        elif (not pluralT(ob)) and (\n",
        "                                taggedsent2[tempind][1] == 'VB' or taggedsent2[tempind][1] == 'VBN' or (                                  #A company has many employees.\n",
        "                                taggedsent2[tempind][1] == 'VBP' and taggedsent2[tempind][0] != 'are') or (\n",
        "                                        taggedsent2[tempind][1] == 'VBZ' and taggedsent2[tempind][0] != 'is')) and (\n",
        "                                taggedsent2[tempind + 1][0] == 'multiple' or taggedsent2[tempind + 1][0] == 'many' or\n",
        "                                taggedsent2[tempind + 1][0] == 'any' or pluralT(\n",
        "                                taggedsent2[tempind + 2][0])) and multiclassTF:\n",
        "                            classmapping = sing(ob) + \"\\\"1\\\" -- \\\"many\\\" \" + sing(\n",
        "                                taggedsent2[tempind + 2][0]) + \" : \" + taggedsent2[tempind][0]\n",
        "\n",
        "                        elif pluralT(ob) and (\n",
        "                                taggedsent2[tempind][1] == 'VB' or taggedsent2[tempind][1] == 'VBN' or (                              #Many students attend the school.\n",
        "                                taggedsent2[tempind][1] == 'VBP' and taggedsent2[tempind][0] != 'are') or (\n",
        "                                        taggedsent2[tempind][1] == 'VBZ' and taggedsent2[tempind][0] != 'is'))and taggedsent2[tempind+1][1] != '.' and (\n",
        "                        not pluralT(taggedsent2[tempind + 2][0])) and multiclassTF:\n",
        "                            classmapping = sing(ob) + \"\\\"many\\\" -- \\\"1\\\" \" + sing(\n",
        "                                taggedsent2[tempind + 2][0]) + \" : \" + taggedsent2[tempind][0]\n",
        "\n",
        "                        elif pluralT(ob) and (\n",
        "                                (taggedsent2[tempind][1] == 'VBP' and taggedsent2[tempind][0] != 'are') or (                       #Authors write many books.\"\n",
        "                                taggedsent2[tempind][1] == 'VBZ' and taggedsent2[tempind][\n",
        "                            0] != 'is')) and taggedsent2[tempind+1][1] != '.' and multiclassTF and pluralT(taggedsent2[tempind + 2][0]):\n",
        "                            classmapping =sing(ob) + \"\\\"many\\\" -- \\\"many\\\" \" + sing(\n",
        "                                    taggedsent2[tempind + 2][0]) + \" : \" + taggedsent2[tempind][0]\n",
        "\n",
        "                        # multiclassTF2\n",
        "                        elif (not pluralT(ob)) and (taggedsent2[tempind][1] == 'VB' or (\n",
        "                                taggedsent2[tempind][1] == 'VBZ' and taggedsent2[tempind][0] != 'is') or (\n",
        "                                                                  taggedsent2[tempind][1] == 'VBP' and\n",
        "                                                                  taggedsent2[tempind][0] != 'are') or\n",
        "                                                          taggedsent2[tempind][1] == 'VBN') and \\\n",
        "                                taggedsent2[tempind + 1][1] != '.' and taggedsent2[tempind + 2][1] != '.' and (\n",
        "                        not pluralT(taggedsent2[tempind + 3][0])) and multiclassTF2:\n",
        "                            classmapping = sing(ob) + \"\\\"1\\\" -- \\\"1\\\" \" + sing(\n",
        "                                taggedsent2[tempind + 3][0]) + \" : \" + taggedsent2[tempind][0]\n",
        "\n",
        "                        elif (not pluralT(ob)) and (taggedsent2[tempind][1] == 'VB' or (\n",
        "                                taggedsent2[tempind][1] == 'VBZ' and taggedsent2[tempind][0] != 'is') or (\n",
        "                                                                  taggedsent2[tempind][1] == 'VBP' and\n",
        "                                                                  taggedsent2[tempind][0] != 'are') or\n",
        "                                                          taggedsent2[tempind][1] == 'VBN') and \\\n",
        "                                taggedsent2[tempind + 1][1] != '.' and taggedsent2[tempind + 2][1] != '.' and (\n",
        "                                taggedsent2[tempind + 2][0] == 'multiple' or taggedsent2[tempind + 2][0] == 'many' or\n",
        "                                taggedsent2[tempind + 2][0] == 'any' or pluralT(\n",
        "                                taggedsent2[tempind + 3][0])) and multiclassTF2:\n",
        "                            classmapping = sing(ob) + \"\\\"1\\\" -- \\\"many\\\" \" + sing(\n",
        "                                taggedsent2[tempind + 3][0]) + \" : \" + taggedsent2[tempind][0]\n",
        "\n",
        "                        elif (pluralT(ob)) and (taggedsent2[tempind][1] == 'VB' or (\n",
        "                                taggedsent2[tempind][1] == 'VBZ' and taggedsent2[tempind][0] != 'is') or (\n",
        "                                                              taggedsent2[tempind][1] == 'VBP' and taggedsent2[tempind][\n",
        "                                                          0] != 'are') or taggedsent2[tempind][1] == 'VBN') and \\\n",
        "                                taggedsent2[tempind + 1][1] != '.' and taggedsent2[tempind + 2][1] != '.' and (\n",
        "                        not pluralT(taggedsent2[tempind + 3][0])) and multiclassTF2:\n",
        "                            classmapping = sing(ob) + \"\\\"many\\\" -- \\\"1\\\" \" + sing(\n",
        "                                taggedsent2[tempind + 3][0]) + \" : \" + taggedsent2[tempind][0]\n",
        "\n",
        "                        elif (pluralT(ob)) and (taggedsent2[tempind][1] == 'VB' or (\n",
        "                                taggedsent2[tempind][1] == 'VBZ' and taggedsent2[tempind][0] != 'is') or (\n",
        "                                                              taggedsent2[tempind][1] == 'VBP' and taggedsent2[tempind][\n",
        "                                                          0] != 'are') or taggedsent2[tempind][1] == 'VBN') and \\\n",
        "                                taggedsent2[tempind + 1][1] != '.' and taggedsent2[tempind + 2][1] != '.' and (\n",
        "                                taggedsent2[tempind + 2][0] == 'multiple' or taggedsent2[tempind + 2][0] == 'many' or\n",
        "                                taggedsent2[tempind + 2][0] == 'any' or pluralT(\n",
        "                                taggedsent2[tempind + 3][0])) and multiclassTF2:\n",
        "                            classmapping =sing(ob) + \"\\\"many\\\" -- \\\"many\\\" \" + sing(\n",
        "                                    taggedsent2[tempind + 3][0]) + \" : \" + taggedsent2[tempind][0]\n",
        "\n",
        "\n",
        "                        # elif (taggedsent2[tempind][1] == 'VB' or taggedsent2[tempind][1] == 'VBN' or (taggedsent2[tempind][1] == 'VBZ' and taggedsent2[tempind][0] != 'is')) and (taggedsent2[tempind+1][1] == 'DT' or taggedsent2[tempind+1][1] == 'CD') and taggedsent2[tempind+2][1] == 'JJ' and multiclassTF2:\n",
        "                        #     classmapping = ClassRelationships(names=Class.sing(ob) + \"\\\"1\\\" -- \\\"1\\\" \" + Class.sing(taggedsent2[tempind+3][0])+\" : \"+taggedsent2[tempind][0])\n",
        "                        #     classmapping.save()\n",
        "                        # multiclassTF3#\n",
        "                        elif (not pluralT(ob)) and (\n",
        "                                (taggedsent2[tempind][1] == 'VBZ' and taggedsent2[tempind][0] != 'is') or (\n",
        "                                taggedsent2[tempind][1] == 'VBP' and taggedsent2[tempind][0] != 'are') or\n",
        "                                taggedsent2[tempind][1] == 'VBN') and taggedsent2[tempind + 1][1] != '.' and \\\n",
        "                                taggedsent2[tempind + 2][1] != '.' and taggedsent2[tempind + 3][1] != '.' and (\n",
        "                        not pluralT(taggedsent2[tempind + 4][0])) and multiclassTF3:\n",
        "                            classmapping = sing(ob) + \"\\\"1\\\" -- \\\"1\\\" \" + sing(\n",
        "                                taggedsent2[tempind + 4][0]) + \" : \" + taggedsent2[tempind][0]\n",
        "\n",
        "                        elif (not pluralT(ob)) and (\n",
        "                                (taggedsent2[tempind][1] == 'VBZ' and taggedsent2[tempind][0] != 'is') or (\n",
        "                                taggedsent2[tempind][1] == 'VBP' and taggedsent2[tempind][0] != 'are') or\n",
        "                                taggedsent2[tempind][1] == 'VBN') and taggedsent2[tempind + 1][1] != '.' and \\\n",
        "                                taggedsent2[tempind + 2][1] != '.' and taggedsent2[tempind + 3][1] != '.' and (\n",
        "                                taggedsent2[tempind + 3][0] == 'multiple' or taggedsent2[tempind + 3][0] == 'many' or\n",
        "                                taggedsent2[tempind + 3][0] == 'any' or pluralT(\n",
        "                                taggedsent2[tempind + 4][0])) and multiclassTF3:\n",
        "                            classmapping = sing(ob) + \"\\\"1\\\" -- \\\"many\\\" \" + sing(\n",
        "                                taggedsent2[tempind + 4][0]) + \" : \" + taggedsent2[tempind][0]\n",
        "\n",
        "                        # elif (not Class.pluralT(ob)) and (taggedsent2[tempind][1] == 'VBZ' and taggedsent2[tempind][0] != 'is') and taggedsent2[tempind+1][0] == 'any' and multiclassTF3:\n",
        "                        #     classmapping = ClassRelationships(names=Class.sing(ob) + \"\\\"1\\\" -- \\\"many\\\" \" + Class.sing(taggedsent2[tempind+4][0])+\" : \"+taggedsent2[tempind][0])\n",
        "                        #     classmapping.save()\n",
        "                        elif (pluralT(ob)) and (\n",
        "                                (taggedsent2[tempind][1] == 'VBZ' and taggedsent2[tempind][0] != 'is') or (\n",
        "                                taggedsent2[tempind][1] == 'VBP' and taggedsent2[tempind][0] != 'are') or\n",
        "                                taggedsent2[tempind][1] == 'VBN') and taggedsent2[tempind + 1][1] != '.' and \\\n",
        "                                taggedsent2[tempind + 2][1] != '.' and taggedsent2[tempind + 3][1] != '.' and (\n",
        "                        not pluralT(taggedsent2[tempind + 4][0])) and multiclassTF3:\n",
        "                            classmapping =sing(ob) + \"\\\"many\\\" -- \\\"1\\\" \" + sing(\n",
        "                                taggedsent2[tempind + 4][0]) + \" : \" + taggedsent2[tempind][0]\n",
        "\n",
        "\n",
        "                        elif (pluralT(ob)) and (\n",
        "                                (taggedsent2[tempind][1] == 'VBZ' and taggedsent2[tempind][0] != 'is') or (\n",
        "                                taggedsent2[tempind][1] == 'VBP' and taggedsent2[tempind][0] != 'are') or\n",
        "                                taggedsent2[tempind][1] == 'VBN') and taggedsent2[tempind + 1][1] != '.' and \\\n",
        "                                taggedsent2[tempind + 2][1] != '.' and taggedsent2[tempind + 3][1] != '.' and (\n",
        "                                taggedsent2[tempind + 3][0] == 'multiple' or taggedsent2[tempind + 3][0] == 'many' or\n",
        "                                taggedsent2[tempind + 3][0] == 'any' or pluralT(\n",
        "                                taggedsent2[tempind + 4][0])) and multiclassTF3:\n",
        "                            classmapping = sing(ob) + \"\\\"many\\\" -- \\\"many\\\" \" + sing(\n",
        "                                    taggedsent2[tempind + 4][0]) + \" : \" + taggedsent2[tempind][0]\n",
        "\n",
        "                        tempind = tempind + 1\n",
        "\n",
        "                # types of\n",
        "                nxtcl = \"\" #next class\n",
        "                todb = \"\"\n",
        "                if taggedsent2[ind][0] == ob:\n",
        "                    nxtcl = ob\n",
        "                    todb = ob\n",
        "                else:\n",
        "                    if str(p.singular_noun(ob)) == \"False\":\n",
        "                        todb = ob\n",
        "                        nxtcl = p.plural(ob)\n",
        "                    else:\n",
        "                        nxtcl = p.singular_noun(ob)\n",
        "                        todb = nxtcl\n",
        "\n",
        "                if taggedsent2[ind - 2][0] == 'types' and taggedsent2[ind - 1][0] == 'of' and taggedsent2[ind][\n",
        "                    0] == nxtcl:\n",
        "                    tempind = ind + 1\n",
        "                    while len(taggedsent2) > tempind:\n",
        "                        if taggedsent2[tempind][0] == '.':\n",
        "                            break\n",
        "                        elif (taggedsent2[tempind][1] == 'JJ' or taggedsent2[tempind][1] == 'VB' or\n",
        "                              taggedsent2[tempind][1] == 'NN' or taggedsent2[tempind][1] == 'NNS' or\n",
        "                              taggedsent2[tempind][1] == 'VBP') and taggedsent2[tempind + 1][0] == nxtcl:\n",
        "                            inheritance = sing(todb) + \"<|--\" + taggedsent2[tempind][0] + \"_\" + sing(todb)\n",
        "\n",
        "                        tempind = tempind + 1\n",
        "\n",
        "            if str(p.singular_noun(ob)) == \"False\":\n",
        "                if ob not in classarr:\n",
        "                    classarr[ob] = attr\n",
        "                else:\n",
        "                    if attr != []:\n",
        "                        classarr[ob].append(attr[0])\n",
        "            else:\n",
        "                if p.singular_noun(ob) not in classarr:\n",
        "                    classarr[p.singular_noun(ob)] = attr\n",
        "                else:\n",
        "                    if attr != []:\n",
        "                        classarr[p.singular_noun(ob)].append(attr[0])\n",
        "\n",
        "        for key, values in classarr.items():\n",
        "            print(key)\n",
        "            print(values)\n",
        "\n",
        "        return classarr.items()"
      ],
      "metadata": {
        "id": "0o93wETcj79x"
      },
      "execution_count": null,
      "outputs": []
    },
    {
      "cell_type": "code",
      "source": [
        "#Aggregation/Composition-Using ‘part of keyword’\n",
        "text_scenario = \"The engine is a part of a car.\"\n",
        "\n",
        "\n",
        "filtered_classes = filtering_classess(text_scenario)\n",
        "print(filtered_classes)\n"
      ],
      "metadata": {
        "colab": {
          "base_uri": "https://localhost:8080/"
        },
        "outputId": "6873707f-1688-4eb8-89d1-953c7dbe6bda",
        "id": "8DAuizj6m3gB"
      },
      "execution_count": null,
      "outputs": [
        {
          "output_type": "stream",
          "name": "stdout",
          "text": [
            "[]\n",
            "classes\n",
            "before pre-processing\n",
            "[('the', 'DT'), ('engine', 'NN'), ('is', 'VBZ'), ('a', 'DT'), ('part', 'NN'), ('of', 'IN'), ('a', 'DT'), ('car', 'NN'), ('.', '.')]\n",
            "After pre-processing\n",
            "[('the', 'DT'), ('engine', 'NN'), ('is', 'VBZ'), ('a', 'DT'), ('part', 'NN'), ('of', 'IN'), ('a', 'DT'), ('car', 'NN'), ('.', '.')]\n",
            "True\n",
            "True\n",
            "['engine', 'car']\n"
          ]
        }
      ]
    },
    {
      "cell_type": "code",
      "source": [
        "import nltk\n",
        "from nltk.corpus import wordnet as wn\n",
        "\n",
        "\n",
        "# Assuming the required functions and classes such as classpre_processing, filtering_classess, etc., are defined.\n",
        "\n",
        "sentence_for_classes = \"Each item can be a product. Products have color. Customers provide contact information including phonenumbers and emailaddresses.\"\n",
        "\n",
        "# Call the class_features function with the provided scenario\n",
        "class_features(sentence_for_classes)\n",
        "\n"
      ],
      "metadata": {
        "colab": {
          "base_uri": "https://localhost:8080/"
        },
        "id": "Fr7tSvThUrxl",
        "outputId": "9c40f7ac-5202-4a20-e1ce-12e949b97989"
      },
      "execution_count": null,
      "outputs": [
        {
          "output_type": "stream",
          "name": "stdout",
          "text": [
            "before pre-processing\n",
            "[('each', 'DT'), ('item', 'NN'), ('can', 'MD'), ('be', 'VB'), ('a', 'DT'), ('product', 'NN'), ('.', '.'), ('products', 'NNS'), ('have', 'VBP'), ('color', 'NN'), ('.', '.'), ('customers', 'NNS'), ('provide', 'VBP'), ('contact', 'JJ'), ('information', 'NN'), ('including', 'VBG'), ('phonenumbers', 'NNS'), ('and', 'CC'), ('emailaddresses', 'NNS'), ('.', '.'), ('.', '.'), ('.', '.'), ('.', '.'), ('.', '.')]\n",
            "After pre-processing\n",
            "[('each', 'DT'), ('item', 'NN'), ('can', 'MD'), ('be', 'VB'), ('a', 'DT'), ('product', 'NN'), ('.', '.'), ('products', 'NNS'), ('have', 'VBP'), ('color', 'NN'), ('.', '.'), ('customers', 'NNS'), ('provide', 'VBP'), ('contact', 'NNS'), ('information', 'NN'), ('including', 'VBG'), ('phonenumbers', 'NNS'), ('and', 'CC'), ('emailaddresses', 'NNS'), ('.', '.'), ('.', '.'), ('.', '.'), ('.', '.'), ('.', '.')]\n",
            "[]\n",
            "classes\n",
            "before pre-processing\n",
            "[('each', 'DT'), ('item', 'NN'), ('can', 'MD'), ('be', 'VB'), ('a', 'DT'), ('product', 'NN'), ('.', '.'), ('products', 'NNS'), ('have', 'VBP'), ('color', 'NN'), ('.', '.'), ('customers', 'NNS'), ('provide', 'VBP'), ('contact', 'JJ'), ('information', 'NN'), ('including', 'VBG'), ('phonenumbers', 'NNS'), ('and', 'CC'), ('emailaddresses', 'NNS'), ('.', '.')]\n",
            "After pre-processing\n",
            "[('each', 'DT'), ('item', 'NN'), ('can', 'MD'), ('be', 'VB'), ('a', 'DT'), ('product', 'NN'), ('.', '.'), ('products', 'NNS'), ('have', 'VBP'), ('color', 'NN'), ('.', '.'), ('customers', 'NNS'), ('provide', 'VBP'), ('contact', 'NNS'), ('information', 'NN'), ('including', 'VBG'), ('phonenumbers', 'NNS'), ('and', 'CC'), ('emailaddresses', 'NNS'), ('.', '.')]\n",
            "True\n",
            "True\n",
            "True\n",
            "True\n",
            "True\n",
            "True\n",
            "True\n",
            "True\n",
            "True\n",
            "True\n",
            "product\n",
            "['Jcolor']\n",
            "customer\n",
            "['Vprovide', 'Jcontact', 'Jinformation', 'Vincluding', 'Jphonenumbers', 'Jemailaddresses']\n"
          ]
        },
        {
          "output_type": "execute_result",
          "data": {
            "text/plain": [
              "dict_items([('product', ['Jcolor']), ('customer', ['Vprovide', 'Jcontact', 'Jinformation', 'Vincluding', 'Jphonenumbers', 'Jemailaddresses'])])"
            ]
          },
          "metadata": {},
          "execution_count": 28
        }
      ]
    },
    {
      "cell_type": "code",
      "source": [
        "def filtering_attributes(sentattr):\n",
        "        attrlist = {}\n",
        "        fattr = []\n",
        "        classsent = class_features(sentattr)\n",
        "        for k, v in classsent:\n",
        "            if v is not None:\n",
        "                for i in v:\n",
        "                    if i.startswith('J'):\n",
        "                        s = list(i)\n",
        "                        s[0] = \"\"\n",
        "                        s = \"\".join(s)\n",
        "                        if s not in fattr:\n",
        "                            fattr.append(s)\n",
        "            attrlist[k] = fattr\n",
        "            fattr = []\n",
        "\n",
        "        print(\"attributes\")\n",
        "\n",
        "        return attrlist\n"
      ],
      "metadata": {
        "id": "4z9WdDybjFGQ"
      },
      "execution_count": null,
      "outputs": []
    },
    {
      "cell_type": "code",
      "source": [
        "sentence_for_classes = \"Products have color. Customers provide contact information with phonenumbers and emailaddresses.\"\n",
        "print(filtering_attributes(sentence_for_classes))"
      ],
      "metadata": {
        "colab": {
          "base_uri": "https://localhost:8080/"
        },
        "id": "1wCrwbAtov5N",
        "outputId": "01fdafb2-8074-4716-a088-c67e4a6a885d"
      },
      "execution_count": null,
      "outputs": [
        {
          "output_type": "stream",
          "name": "stdout",
          "text": [
            "before pre-processing\n",
            "[('products', 'NNS'), ('have', 'VBP'), ('color', 'NN'), ('.', '.'), ('customers', 'NNS'), ('provide', 'VBP'), ('contact', 'JJ'), ('information', 'NN'), ('with', 'IN'), ('phonenumbers', 'NNS'), ('and', 'CC'), ('emailaddresses', 'NNS'), ('.', '.'), ('.', '.'), ('.', '.'), ('.', '.'), ('.', '.')]\n",
            "After pre-processing\n",
            "[('products', 'NNS'), ('have', 'VBP'), ('color', 'NN'), ('.', '.'), ('customers', 'NNS'), ('provide', 'VBP'), ('contact', 'NNS'), ('information', 'NN'), ('with', 'IN'), ('phonenumbers', 'NNS'), ('and', 'CC'), ('emailaddresses', 'NNS'), ('.', '.'), ('.', '.'), ('.', '.'), ('.', '.'), ('.', '.')]\n",
            "[]\n",
            "classes\n",
            "before pre-processing\n",
            "[('products', 'NNS'), ('have', 'VBP'), ('color', 'NN'), ('.', '.'), ('customers', 'NNS'), ('provide', 'VBP'), ('contact', 'JJ'), ('information', 'NN'), ('with', 'IN'), ('phonenumbers', 'NNS'), ('and', 'CC'), ('emailaddresses', 'NNS'), ('.', '.')]\n",
            "After pre-processing\n",
            "[('products', 'NNS'), ('have', 'VBP'), ('color', 'NN'), ('.', '.'), ('customers', 'NNS'), ('provide', 'VBP'), ('contact', 'NNS'), ('information', 'NN'), ('with', 'IN'), ('phonenumbers', 'NNS'), ('and', 'CC'), ('emailaddresses', 'NNS'), ('.', '.')]\n",
            "True\n",
            "True\n",
            "True\n",
            "True\n",
            "True\n",
            "True\n",
            "True\n",
            "True\n",
            "True\n",
            "True\n",
            "product\n",
            "['Jcolor']\n",
            "customer\n",
            "['Vprovide', 'Jcontact', 'Jinformation', 'Jphonenumbers', 'Jemailaddresses']\n",
            "attributes\n",
            "{'product': ['color'], 'customer': ['contact', 'information', 'phonenumbers', 'emailaddresses']}\n"
          ]
        }
      ]
    },
    {
      "cell_type": "markdown",
      "source": [
        "Relationships"
      ],
      "metadata": {
        "id": "GI-K5wwrJaD7"
      }
    },
    {
      "cell_type": "code",
      "source": [
        "def filtering_associations(sentence_for_classes):\n",
        "    relationship = []\n",
        "    print(relationship)\n",
        "    print(\"relationship\")\n",
        "\n",
        "    taggedsent = classpre_processing(sentence_for_classes)\n",
        "\n",
        "    num = 1\n",
        "    one = \"\"\n",
        "    two = \"\"\n",
        "    for ind, word in enumerate(taggedsent):\n",
        "        one = oneTwo(taggedsent[ind][0])\n",
        "        if len(taggedsent) > 6:\n",
        "            two = oneTwo(taggedsent[ind - 6][0])\n",
        "        if (len(taggedsent) > 6) and (taggedsent[ind - 6][1] == 'NN' or taggedsent[ind - 6][1] == 'NNP' or taggedsent[ind - 6][1] == 'NNS') and \\\n",
        "                taggedsent[ind - 5][1] == 'VBZ' and taggedsent[ind - 4][1] == 'DT' and taggedsent[ind - 3][0] == 'part' and taggedsent[ind - 2][0] == 'of' and taggedsent[ind - 1][1] == 'DT' and \\\n",
        "                (taggedsent[ind][1] == 'NN' or taggedsent[ind][1] == 'NNP' or taggedsent[ind][1] == 'NNS'):  # The manager oversees a part of the team\n",
        "            print(f\"Aggregation-{taggedsent[ind][0]}, {taggedsent[ind - 6][0]}\")\n",
        "            relationship.append(taggedsent[ind][0])  # Aggregation is identified\n",
        "\n",
        "        elif (taggedsent[ind - 3][1] == 'NN' or taggedsent[ind - 3][1] == 'NNP') and taggedsent[ind - 2][0] == 'is' and \\\n",
        "                (taggedsent[ind - 1][0] == 'a' or taggedsent[ind - 1][0] == 'an') and taggedsent[ind][1] == 'NN' and taggedsent[ind][0] != 'part':  # e.g., \"The car is a vehicle.\"\n",
        "            print(f\"Inheritance-{taggedsent[ind - 3][0]}, {taggedsent[ind][0]}\")\n",
        "            relationship.append(taggedsent[ind][0])  # Inheritance is identified\n",
        "\n",
        "        elif (taggedsent[ind - 1][1] == 'NN' or taggedsent[ind - 1][1] == 'NNS') and taggedsent[ind][1] == 'VBP':  # Example: \"Students study.\"\n",
        "            print(f\"Association-{taggedsent[ind - 1][0]},{taggedsent[ind][1]}\")\n",
        "            relationship.append(taggedsent[ind - 1][0])\n",
        "\n",
        "        elif taggedsent[ind - 1][1] == 'NN' and (taggedsent[ind][1] == 'VBZ' and taggedsent[ind][0] != 'is'):  # Example: \"The car has wheels.\"\n",
        "            print(f\"Association-{taggedsent[ind - 1][0]},{taggedsent[ind][1]}\")\n",
        "            relationship.append(taggedsent[ind - 1][0])\n",
        "\n",
        "        elif (taggedsent[ind - 1][1] == 'NN' or taggedsent[ind - 1][1] == 'NNS') and taggedsent[ind][1] == 'VBZ':  # Example: \"The car runs.\"\n",
        "            print(f\"Association-{taggedsent[ind - 1][0]},{taggedsent[ind][1]}\")\n",
        "            relationship.append(taggedsent[ind - 1][0])\n",
        "\n",
        "    return list(relationship)\n",
        "\n"
      ],
      "metadata": {
        "id": "325V2GE7zacb"
      },
      "execution_count": null,
      "outputs": []
    },
    {
      "cell_type": "code",
      "source": [
        "def filtering_associations(sentence_for_classes):\n",
        "    relationship = []\n",
        "    print(relationship)\n",
        "    print(\"relationship\")\n",
        "\n",
        "    taggedsent = classpre_processing(sentence_for_classes)\n",
        "\n",
        "    num = 1\n",
        "    one = \"\"\n",
        "    two = \"\"\n",
        "    for ind, word in enumerate(taggedsent):\n",
        "        one = oneTwo(taggedsent[ind][0])\n",
        "        if len(taggedsent) > 6:\n",
        "            two = oneTwo(taggedsent[ind - 6][0])\n",
        "        if (len(taggedsent) > 6) and (taggedsent[ind - 6][1] == 'NN' or taggedsent[ind - 6][1] == 'NNP' or taggedsent[ind - 6][1] == 'NNS') and \\\n",
        "                taggedsent[ind - 5][1] == 'VBZ' and taggedsent[ind - 4][1] == 'DT' and taggedsent[ind - 3][0] == 'part' and taggedsent[ind - 2][0] == 'of' and taggedsent[ind - 1][1] == 'DT' and \\\n",
        "                (taggedsent[ind][1] == 'NN' or taggedsent[ind][1] == 'NNP' or taggedsent[ind][1] == 'NNS'):  # The manager oversees a part of the team\n",
        "            print(f\"Aggregation-{taggedsent[ind][0]}, {taggedsent[ind - 6][0]}\")\n",
        "            relationship.append(taggedsent[ind][0])  # Aggregation is identified\n",
        "\n",
        "        elif (taggedsent[ind - 3][1] == 'NN' or taggedsent[ind - 3][1] == 'NNP') and taggedsent[ind - 2][0] == 'is' and \\\n",
        "                (taggedsent[ind - 1][0] == 'a' or taggedsent[ind - 1][0] == 'an') and taggedsent[ind][1] == 'NN' and taggedsent[ind][0] != 'part':  # e.g., \"The car is a vehicle.\"\n",
        "            print(f\"Inheritance-{taggedsent[ind - 3][0]}, {taggedsent[ind][0]}\")\n",
        "            relationship.append(taggedsent[ind][0])  # Inheritance is identified\n",
        "\n",
        "        elif (taggedsent[ind - 1][1] == 'NN' or taggedsent[ind - 1][1] == 'NNS') and taggedsent[ind][1] == 'VBP':  # Example: \"Students study.\"\n",
        "            print(f\"Association-{taggedsent[ind - 1][0]},{taggedsent[ind][0]}\")\n",
        "            relationship.append(taggedsent[ind - 1][0])\n",
        "            relationship.append(taggedsent[ind][0])\n",
        "\n",
        "        elif taggedsent[ind - 1][1] == 'NN' and (taggedsent[ind][1] == 'VBZ' and taggedsent[ind][0] != 'is'):  # Example: \"The car has wheels.\"\n",
        "            print(f\"Association-{taggedsent[ind - 1][0]},{taggedsent[ind][0]}\")\n",
        "            relationship.append(taggedsent[ind - 1][0])\n",
        "            relationship.append(taggedsent[ind][0])\n",
        "\n",
        "        elif (taggedsent[ind - 1][1] == 'NN' or taggedsent[ind - 1][1] == 'NNS') and taggedsent[ind][1] == 'VBZ':  # Example: \"The car runs.\"\n",
        "            print(f\"Association-{taggedsent[ind - 1][0]},{taggedsent[ind][0]}\")\n",
        "            relationship.append(taggedsent[ind - 1][0])\n",
        "            relationship.append(taggedsent[ind][0])\n",
        "\n",
        "    return list(relationship)\n",
        "\n",
        "# Example usage\n",
        "sentence_for_classes = \"Customer places an order. An order contains multiple items. Each item can be a product. Products are categorized by types. Orders have a shipping address and a billing address. Customers provide contact information including phone numbers and email addresses. The car is a vehicle.\"\n",
        "\n",
        "# Call the filtering_associations function with the provided scenario\n",
        "print(filtering_associations(sentence_for_classes))\n"
      ],
      "metadata": {
        "id": "fBo8_0fNJcHm",
        "outputId": "bca672f2-0000-4f77-fe54-1106f184a186",
        "colab": {
          "base_uri": "https://localhost:8080/"
        }
      },
      "execution_count": null,
      "outputs": [
        {
          "output_type": "stream",
          "name": "stdout",
          "text": [
            "[]\n",
            "relationship\n",
            "before pre-processing\n",
            "[('customer', 'NN'), ('places', 'NNS'), ('an', 'DT'), ('order', 'NN'), ('.', '.'), ('an', 'DT'), ('order', 'NN'), ('contains', 'VBZ'), ('multiple', 'JJ'), ('items', 'NNS'), ('.', '.'), ('each', 'DT'), ('item', 'NN'), ('can', 'MD'), ('be', 'VB'), ('a', 'DT'), ('product', 'NN'), ('.', '.'), ('products', 'NNS'), ('are', 'VBP'), ('categorized', 'VBN'), ('by', 'IN'), ('types', 'NNS'), ('.', '.'), ('orders', 'NNS'), ('have', 'VBP'), ('a', 'DT'), ('shipping', 'NN'), ('address', 'NN'), ('and', 'CC'), ('a', 'DT'), ('billing', 'NN'), ('address', 'NN'), ('.', '.'), ('customers', 'NNS'), ('provide', 'VBP'), ('contact', 'JJ'), ('information', 'NN'), ('including', 'VBG'), ('phone', 'NN'), ('numbers', 'NNS'), ('and', 'CC'), ('email', 'NN'), ('addresses', 'NNS'), ('.', '.'), ('the', 'DT'), ('car', 'NN'), ('is', 'VBZ'), ('a', 'DT'), ('vehicle', 'NN'), ('.', '.')]\n",
            "After pre-processing\n",
            "[('customer', 'NN'), ('places', 'VBP'), ('an', 'DT'), ('order', 'NN'), ('.', '.'), ('an', 'DT'), ('order', 'NN'), ('contains', 'VBZ'), ('multiple', 'NNS'), ('items', 'NNS'), ('.', '.'), ('each', 'DT'), ('item', 'NN'), ('can', 'MD'), ('be', 'VB'), ('a', 'DT'), ('product', 'NN'), ('.', '.'), ('products', 'NNS'), ('are', 'VBP'), ('categorized', 'VBN'), ('by', 'IN'), ('types', 'NNS'), ('.', '.'), ('orders', 'NNS'), ('have', 'VBP'), ('a', 'DT'), ('shipping', 'NN'), ('address', 'NN'), ('and', 'CC'), ('a', 'DT'), ('billing', 'NN'), ('address', 'NN'), ('.', '.'), ('customers', 'NNS'), ('provide', 'VBP'), ('contact', 'NNS'), ('information', 'NN'), ('including', 'VBG'), ('phone', 'NN'), ('numbers', 'NNS'), ('and', 'CC'), ('email', 'NN'), ('addresses', 'NNS'), ('.', '.'), ('the', 'DT'), ('car', 'NN'), ('is', 'VBZ'), ('a', 'DT'), ('vehicle', 'NN'), ('.', '.')]\n",
            "True\n",
            "Association-customer,places\n",
            "True\n",
            "True\n",
            "True\n",
            "Association-order,contains\n",
            "True\n",
            "True\n",
            "True\n",
            "True\n",
            "Association-products,are\n",
            "True\n",
            "True\n",
            "True\n",
            "Association-orders,have\n",
            "True\n",
            "True\n",
            "True\n",
            "True\n",
            "True\n",
            "True\n",
            "Association-customers,provide\n",
            "True\n",
            "True\n",
            "True\n",
            "True\n",
            "True\n",
            "True\n",
            "True\n",
            "True\n",
            "Association-car,is\n",
            "True\n",
            "Inheritance-car, vehicle\n",
            "['customer', 'places', 'order', 'contains', 'products', 'are', 'orders', 'have', 'customers', 'provide', 'car', 'is', 'vehicle']\n"
          ]
        }
      ]
    },
    {
      "cell_type": "code",
      "source": [
        "# Example usage\n",
        "sentence_for_classes = \"Customer places an order. An order contains multiple items. Each item can be a product. Products are categorized by types. Orders have a shipping address and a billing address. Customers provide contact information including phone numbers and email addresses. The car is a vehicle.\"\n",
        "\n",
        "# Call the filtering_associations function with the provided scenario\n",
        "print(filtering_associations(sentence_for_classes))\n"
      ],
      "metadata": {
        "colab": {
          "base_uri": "https://localhost:8080/"
        },
        "id": "1oDHZdHPz53x",
        "outputId": "fd41f948-6d81-46a7-b75c-fba96983692c"
      },
      "execution_count": null,
      "outputs": [
        {
          "output_type": "stream",
          "name": "stdout",
          "text": [
            "[]\n",
            "relationship\n",
            "before pre-processing\n",
            "[('customer', 'NN'), ('places', 'NNS'), ('an', 'DT'), ('order', 'NN'), ('.', '.'), ('an', 'DT'), ('order', 'NN'), ('contains', 'VBZ'), ('multiple', 'JJ'), ('items', 'NNS'), ('.', '.'), ('each', 'DT'), ('item', 'NN'), ('can', 'MD'), ('be', 'VB'), ('a', 'DT'), ('product', 'NN'), ('.', '.'), ('products', 'NNS'), ('are', 'VBP'), ('categorized', 'VBN'), ('by', 'IN'), ('types', 'NNS'), ('.', '.'), ('orders', 'NNS'), ('have', 'VBP'), ('a', 'DT'), ('shipping', 'NN'), ('address', 'NN'), ('and', 'CC'), ('a', 'DT'), ('billing', 'NN'), ('address', 'NN'), ('.', '.'), ('customers', 'NNS'), ('provide', 'VBP'), ('contact', 'JJ'), ('information', 'NN'), ('including', 'VBG'), ('phone', 'NN'), ('numbers', 'NNS'), ('and', 'CC'), ('email', 'NN'), ('addresses', 'NNS'), ('.', '.'), ('the', 'DT'), ('car', 'NN'), ('is', 'VBZ'), ('a', 'DT'), ('vehicle', 'NN'), ('.', '.')]\n",
            "After pre-processing\n",
            "[('customer', 'NN'), ('places', 'VBP'), ('an', 'DT'), ('order', 'NN'), ('.', '.'), ('an', 'DT'), ('order', 'NN'), ('contains', 'VBZ'), ('multiple', 'NNS'), ('items', 'NNS'), ('.', '.'), ('each', 'DT'), ('item', 'NN'), ('can', 'MD'), ('be', 'VB'), ('a', 'DT'), ('product', 'NN'), ('.', '.'), ('products', 'NNS'), ('are', 'VBP'), ('categorized', 'VBN'), ('by', 'IN'), ('types', 'NNS'), ('.', '.'), ('orders', 'NNS'), ('have', 'VBP'), ('a', 'DT'), ('shipping', 'NN'), ('address', 'NN'), ('and', 'CC'), ('a', 'DT'), ('billing', 'NN'), ('address', 'NN'), ('.', '.'), ('customers', 'NNS'), ('provide', 'VBP'), ('contact', 'NNS'), ('information', 'NN'), ('including', 'VBG'), ('phone', 'NN'), ('numbers', 'NNS'), ('and', 'CC'), ('email', 'NN'), ('addresses', 'NNS'), ('.', '.'), ('the', 'DT'), ('car', 'NN'), ('is', 'VBZ'), ('a', 'DT'), ('vehicle', 'NN'), ('.', '.')]\n",
            "True\n",
            "Association-customer,places\n",
            "True\n",
            "True\n",
            "True\n",
            "Association-order,contains\n",
            "True\n",
            "True\n",
            "True\n",
            "True\n",
            "Association-products,are\n",
            "True\n",
            "True\n",
            "True\n",
            "Association-orders,have\n",
            "True\n",
            "True\n",
            "True\n",
            "True\n",
            "True\n",
            "True\n",
            "Association-customers,provide\n",
            "True\n",
            "True\n",
            "True\n",
            "True\n",
            "True\n",
            "True\n",
            "True\n",
            "True\n",
            "Association-car,is\n",
            "True\n",
            "Inheritance-car, vehicle\n",
            "['customer', 'places', 'order', 'contains', 'products', 'are', 'orders', 'have', 'customers', 'provide', 'car', 'is', 'vehicle']\n"
          ]
        }
      ]
    },
    {
      "cell_type": "markdown",
      "source": [
        "Many - many, 1-1, 1 - many relationships"
      ],
      "metadata": {
        "id": "VAxl8H_9Yyai"
      }
    },
    {
      "cell_type": "code",
      "source": [
        "import nltk\n",
        "from nltk.corpus import wordnet as wn"
      ],
      "metadata": {
        "id": "Yn-CxIt1f2Fg"
      },
      "execution_count": null,
      "outputs": []
    },
    {
      "cell_type": "code",
      "source": [
        "!pip install pattern\n"
      ],
      "metadata": {
        "colab": {
          "base_uri": "https://localhost:8080/",
          "height": 1000
        },
        "id": "d9k9_o2_govO",
        "outputId": "06f7016c-c110-4a22-8266-84abe4f1c06c"
      },
      "execution_count": null,
      "outputs": [
        {
          "output_type": "stream",
          "name": "stdout",
          "text": [
            "Collecting pattern\n",
            "  Downloading Pattern-3.6.0.tar.gz (22.2 MB)\n",
            "\u001b[2K     \u001b[90m━━━━━━━━━━━━━━━━━━━━━━━━━━━━━━━━━━━━━━━━\u001b[0m \u001b[32m22.2/22.2 MB\u001b[0m \u001b[31m60.3 MB/s\u001b[0m eta \u001b[36m0:00:00\u001b[0m\n",
            "\u001b[?25h  Preparing metadata (setup.py) ... \u001b[?25l\u001b[?25hdone\n",
            "Requirement already satisfied: future in /usr/local/lib/python3.10/dist-packages (from pattern) (0.18.3)\n",
            "Collecting backports.csv (from pattern)\n",
            "  Downloading backports.csv-1.0.7-py2.py3-none-any.whl.metadata (4.0 kB)\n",
            "Collecting mysqlclient (from pattern)\n",
            "  Downloading mysqlclient-2.2.4.tar.gz (90 kB)\n",
            "\u001b[2K     \u001b[90m━━━━━━━━━━━━━━━━━━━━━━━━━━━━━━━━━━━━━━━━\u001b[0m \u001b[32m90.4/90.4 kB\u001b[0m \u001b[31m5.6 MB/s\u001b[0m eta \u001b[36m0:00:00\u001b[0m\n",
            "\u001b[?25h  Installing build dependencies ... \u001b[?25l\u001b[?25hdone\n",
            "  Getting requirements to build wheel ... \u001b[?25l\u001b[?25hdone\n",
            "  Preparing metadata (pyproject.toml) ... \u001b[?25l\u001b[?25hdone\n",
            "Requirement already satisfied: beautifulsoup4 in /usr/local/lib/python3.10/dist-packages (from pattern) (4.12.3)\n",
            "Requirement already satisfied: lxml in /usr/local/lib/python3.10/dist-packages (from pattern) (4.9.4)\n",
            "Collecting feedparser (from pattern)\n",
            "  Downloading feedparser-6.0.11-py3-none-any.whl.metadata (2.4 kB)\n",
            "Collecting pdfminer.six (from pattern)\n",
            "  Downloading pdfminer.six-20240706-py3-none-any.whl.metadata (4.1 kB)\n",
            "Requirement already satisfied: numpy in /usr/local/lib/python3.10/dist-packages (from pattern) (1.25.2)\n",
            "Requirement already satisfied: scipy in /usr/local/lib/python3.10/dist-packages (from pattern) (1.11.4)\n",
            "Requirement already satisfied: nltk in /usr/local/lib/python3.10/dist-packages (from pattern) (3.8.1)\n",
            "Collecting python-docx (from pattern)\n",
            "  Downloading python_docx-1.1.2-py3-none-any.whl.metadata (2.0 kB)\n",
            "Collecting cherrypy (from pattern)\n",
            "  Downloading CherryPy-18.10.0-py3-none-any.whl.metadata (8.7 kB)\n",
            "Requirement already satisfied: requests in /usr/local/lib/python3.10/dist-packages (from pattern) (2.31.0)\n",
            "Requirement already satisfied: soupsieve>1.2 in /usr/local/lib/python3.10/dist-packages (from beautifulsoup4->pattern) (2.5)\n",
            "Collecting cheroot>=8.2.1 (from cherrypy->pattern)\n",
            "  Downloading cheroot-10.0.1-py3-none-any.whl.metadata (7.1 kB)\n",
            "Collecting portend>=2.1.1 (from cherrypy->pattern)\n",
            "  Downloading portend-3.2.0-py3-none-any.whl.metadata (3.6 kB)\n",
            "Requirement already satisfied: more-itertools in /usr/local/lib/python3.10/dist-packages (from cherrypy->pattern) (10.1.0)\n",
            "Collecting zc.lockfile (from cherrypy->pattern)\n",
            "  Downloading zc.lockfile-3.0.post1-py3-none-any.whl.metadata (6.2 kB)\n",
            "Collecting jaraco.collections (from cherrypy->pattern)\n",
            "  Downloading jaraco.collections-5.0.1-py3-none-any.whl.metadata (3.8 kB)\n",
            "Collecting sgmllib3k (from feedparser->pattern)\n",
            "  Downloading sgmllib3k-1.0.0.tar.gz (5.8 kB)\n",
            "  Preparing metadata (setup.py) ... \u001b[?25l\u001b[?25hdone\n",
            "Requirement already satisfied: click in /usr/local/lib/python3.10/dist-packages (from nltk->pattern) (8.1.7)\n",
            "Requirement already satisfied: joblib in /usr/local/lib/python3.10/dist-packages (from nltk->pattern) (1.4.2)\n",
            "Requirement already satisfied: regex>=2021.8.3 in /usr/local/lib/python3.10/dist-packages (from nltk->pattern) (2024.5.15)\n",
            "Requirement already satisfied: tqdm in /usr/local/lib/python3.10/dist-packages (from nltk->pattern) (4.66.4)\n",
            "Requirement already satisfied: charset-normalizer>=2.0.0 in /usr/local/lib/python3.10/dist-packages (from pdfminer.six->pattern) (3.3.2)\n",
            "Requirement already satisfied: cryptography>=36.0.0 in /usr/local/lib/python3.10/dist-packages (from pdfminer.six->pattern) (43.0.0)\n",
            "Requirement already satisfied: typing-extensions>=4.9.0 in /usr/local/lib/python3.10/dist-packages (from python-docx->pattern) (4.12.2)\n",
            "Requirement already satisfied: idna<4,>=2.5 in /usr/local/lib/python3.10/dist-packages (from requests->pattern) (3.7)\n",
            "Requirement already satisfied: urllib3<3,>=1.21.1 in /usr/local/lib/python3.10/dist-packages (from requests->pattern) (2.0.7)\n",
            "Requirement already satisfied: certifi>=2017.4.17 in /usr/local/lib/python3.10/dist-packages (from requests->pattern) (2024.7.4)\n",
            "Collecting jaraco.functools (from cheroot>=8.2.1->cherrypy->pattern)\n",
            "  Downloading jaraco.functools-4.0.1-py3-none-any.whl.metadata (2.9 kB)\n",
            "Requirement already satisfied: cffi>=1.12 in /usr/local/lib/python3.10/dist-packages (from cryptography>=36.0.0->pdfminer.six->pattern) (1.16.0)\n",
            "Collecting tempora>=1.8 (from portend>=2.1.1->cherrypy->pattern)\n",
            "  Downloading tempora-5.7.0-py3-none-any.whl.metadata (3.2 kB)\n",
            "Collecting jaraco.text (from jaraco.collections->cherrypy->pattern)\n",
            "  Downloading jaraco.text-3.14.0-py3-none-any.whl.metadata (3.7 kB)\n",
            "Requirement already satisfied: setuptools in /usr/local/lib/python3.10/dist-packages (from zc.lockfile->cherrypy->pattern) (71.0.4)\n",
            "Requirement already satisfied: pycparser in /usr/local/lib/python3.10/dist-packages (from cffi>=1.12->cryptography>=36.0.0->pdfminer.six->pattern) (2.22)\n",
            "Requirement already satisfied: python-dateutil in /usr/local/lib/python3.10/dist-packages (from tempora>=1.8->portend>=2.1.1->cherrypy->pattern) (2.8.2)\n",
            "Collecting jaraco.context>=4.1 (from jaraco.text->jaraco.collections->cherrypy->pattern)\n",
            "  Downloading jaraco.context-5.3.0-py3-none-any.whl.metadata (4.0 kB)\n",
            "Collecting autocommand (from jaraco.text->jaraco.collections->cherrypy->pattern)\n",
            "  Downloading autocommand-2.2.2-py3-none-any.whl.metadata (15 kB)\n",
            "Requirement already satisfied: inflect in /usr/local/lib/python3.10/dist-packages (from jaraco.text->jaraco.collections->cherrypy->pattern) (7.0.0)\n",
            "Collecting backports.tarfile (from jaraco.context>=4.1->jaraco.text->jaraco.collections->cherrypy->pattern)\n",
            "  Downloading backports.tarfile-1.2.0-py3-none-any.whl.metadata (2.0 kB)\n",
            "Requirement already satisfied: pydantic>=1.9.1 in /usr/local/lib/python3.10/dist-packages (from inflect->jaraco.text->jaraco.collections->cherrypy->pattern) (2.8.2)\n",
            "Requirement already satisfied: six>=1.5 in /usr/local/lib/python3.10/dist-packages (from python-dateutil->tempora>=1.8->portend>=2.1.1->cherrypy->pattern) (1.16.0)\n",
            "Requirement already satisfied: annotated-types>=0.4.0 in /usr/local/lib/python3.10/dist-packages (from pydantic>=1.9.1->inflect->jaraco.text->jaraco.collections->cherrypy->pattern) (0.7.0)\n",
            "Requirement already satisfied: pydantic-core==2.20.1 in /usr/local/lib/python3.10/dist-packages (from pydantic>=1.9.1->inflect->jaraco.text->jaraco.collections->cherrypy->pattern) (2.20.1)\n",
            "Downloading backports.csv-1.0.7-py2.py3-none-any.whl (12 kB)\n",
            "Downloading CherryPy-18.10.0-py3-none-any.whl (349 kB)\n",
            "\u001b[2K   \u001b[90m━━━━━━━━━━━━━━━━━━━━━━━━━━━━━━━━━━━━━━━━\u001b[0m \u001b[32m349.8/349.8 kB\u001b[0m \u001b[31m22.9 MB/s\u001b[0m eta \u001b[36m0:00:00\u001b[0m\n",
            "\u001b[?25hDownloading feedparser-6.0.11-py3-none-any.whl (81 kB)\n",
            "\u001b[2K   \u001b[90m━━━━━━━━━━━━━━━━━━━━━━━━━━━━━━━━━━━━━━━━\u001b[0m \u001b[32m81.3/81.3 kB\u001b[0m \u001b[31m6.0 MB/s\u001b[0m eta \u001b[36m0:00:00\u001b[0m\n",
            "\u001b[?25hDownloading pdfminer.six-20240706-py3-none-any.whl (5.6 MB)\n",
            "\u001b[2K   \u001b[90m━━━━━━━━━━━━━━━━━━━━━━━━━━━━━━━━━━━━━━━━\u001b[0m \u001b[32m5.6/5.6 MB\u001b[0m \u001b[31m82.9 MB/s\u001b[0m eta \u001b[36m0:00:00\u001b[0m\n",
            "\u001b[?25hDownloading python_docx-1.1.2-py3-none-any.whl (244 kB)\n",
            "\u001b[2K   \u001b[90m━━━━━━━━━━━━━━━━━━━━━━━━━━━━━━━━━━━━━━━━\u001b[0m \u001b[32m244.3/244.3 kB\u001b[0m \u001b[31m15.3 MB/s\u001b[0m eta \u001b[36m0:00:00\u001b[0m\n",
            "\u001b[?25hDownloading cheroot-10.0.1-py3-none-any.whl (104 kB)\n",
            "\u001b[2K   \u001b[90m━━━━━━━━━━━━━━━━━━━━━━━━━━━━━━━━━━━━━━━━\u001b[0m \u001b[32m104.8/104.8 kB\u001b[0m \u001b[31m7.3 MB/s\u001b[0m eta \u001b[36m0:00:00\u001b[0m\n",
            "\u001b[?25hDownloading portend-3.2.0-py3-none-any.whl (5.3 kB)\n",
            "Downloading jaraco.collections-5.0.1-py3-none-any.whl (10 kB)\n",
            "Downloading zc.lockfile-3.0.post1-py3-none-any.whl (9.8 kB)\n",
            "Downloading tempora-5.7.0-py3-none-any.whl (13 kB)\n",
            "Downloading jaraco.functools-4.0.1-py3-none-any.whl (9.8 kB)\n",
            "Downloading jaraco.text-3.14.0-py3-none-any.whl (11 kB)\n",
            "Downloading jaraco.context-5.3.0-py3-none-any.whl (6.5 kB)\n",
            "Downloading autocommand-2.2.2-py3-none-any.whl (19 kB)\n",
            "Downloading backports.tarfile-1.2.0-py3-none-any.whl (30 kB)\n",
            "Building wheels for collected packages: pattern, mysqlclient, sgmllib3k\n",
            "  Building wheel for pattern (setup.py) ... \u001b[?25l\u001b[?25hdone\n",
            "  Created wheel for pattern: filename=Pattern-3.6-py3-none-any.whl size=22332702 sha256=f7ecb06a4299bcda5fc7346f94f211d1fb83082fc1fec49d220dc9bd8539de09\n",
            "  Stored in directory: /root/.cache/pip/wheels/d1/8f/40/fe23abd593ef60be5bfaf3e02154d3484df42aa947bbf4d499\n",
            "  Building wheel for mysqlclient (pyproject.toml) ... \u001b[?25l\u001b[?25hdone\n",
            "  Created wheel for mysqlclient: filename=mysqlclient-2.2.4-cp310-cp310-linux_x86_64.whl size=124740 sha256=87fa0543dd0e9b2ce6ec8202fd9191b3303ef4d29f1227f404a31959498121ab\n",
            "  Stored in directory: /root/.cache/pip/wheels/ac/96/ac/2a4d8cb58a4d95de1dffc3f8b0ea42e0e5b63ab97640edbda3\n",
            "  Building wheel for sgmllib3k (setup.py) ... \u001b[?25l\u001b[?25hdone\n",
            "  Created wheel for sgmllib3k: filename=sgmllib3k-1.0.0-py3-none-any.whl size=6047 sha256=31e580d4405e72612dec17476e3b5c6dcc71095b83288c06678fcc12e82ecef0\n",
            "  Stored in directory: /root/.cache/pip/wheels/f0/69/93/a47e9d621be168e9e33c7ce60524393c0b92ae83cf6c6e89c5\n",
            "Successfully built pattern mysqlclient sgmllib3k\n",
            "Installing collected packages: sgmllib3k, backports.csv, zc.lockfile, python-docx, mysqlclient, jaraco.functools, feedparser, backports.tarfile, autocommand, tempora, jaraco.context, cheroot, portend, pdfminer.six, jaraco.text, jaraco.collections, cherrypy, pattern\n",
            "Successfully installed autocommand-2.2.2 backports.csv-1.0.7 backports.tarfile-1.2.0 cheroot-10.0.1 cherrypy-18.10.0 feedparser-6.0.11 jaraco.collections-5.0.1 jaraco.context-5.3.0 jaraco.functools-4.0.1 jaraco.text-3.14.0 mysqlclient-2.2.4 pattern-3.6 pdfminer.six-20240706 portend-3.2.0 python-docx-1.1.2 sgmllib3k-1.0.0 tempora-5.7.0 zc.lockfile-3.0.post1\n"
          ]
        },
        {
          "output_type": "display_data",
          "data": {
            "application/vnd.colab-display-data+json": {
              "pip_warning": {
                "packages": [
                  "jaraco"
                ]
              },
              "id": "bd6157c40bc845cb9ac08c79981c5547"
            }
          },
          "metadata": {}
        }
      ]
    },
    {
      "cell_type": "code",
      "source": [
        "import nltk\n",
        "nltk.download('punkt')\n"
      ],
      "metadata": {
        "colab": {
          "base_uri": "https://localhost:8080/"
        },
        "id": "9XkkCDQTF2JE",
        "outputId": "4d92ac9c-a60c-4ac1-d3fc-592fcc1a0172"
      },
      "execution_count": null,
      "outputs": [
        {
          "output_type": "stream",
          "name": "stderr",
          "text": [
            "[nltk_data] Downloading package punkt to /root/nltk_data...\n",
            "[nltk_data]   Package punkt is already up-to-date!\n"
          ]
        },
        {
          "output_type": "execute_result",
          "data": {
            "text/plain": [
              "True"
            ]
          },
          "metadata": {},
          "execution_count": 21
        }
      ]
    },
    {
      "cell_type": "code",
      "source": [
        "import nltk\n",
        "from nltk import pos_tag\n",
        "from nltk.corpus import wordnet as wn\n",
        "from pattern.en import pluralize, singularize\n",
        "\n",
        "# Ensure you have the necessary NLTK data\n",
        "nltk.download('averaged_perceptron_tagger')\n",
        "nltk.download('wordnet')\n",
        "\n",
        "def classpre_processing(sentence):\n",
        "    tokens = nltk.word_tokenize(sentence)\n",
        "    tagged = pos_tag(tokens)\n",
        "    return tagged\n",
        "\n",
        "def filtering_classess(sentence):\n",
        "    tokens = nltk.word_tokenize(sentence)\n",
        "    tagged = pos_tag(tokens)\n",
        "    classes = [word for word, pos in tagged if pos in ['NN', 'NNS']]\n",
        "    return classes\n",
        "\n",
        "def pluralT(word):\n",
        "    return pluralize(word) == word\n",
        "\n",
        "def sing(word):\n",
        "    return singularize(word)\n",
        "\n",
        "def cardinality(sentence_for_classes):\n",
        "    classarr = {}\n",
        "    taggedsent2 = classpre_processing(sentence_for_classes + \" . . . .\")\n",
        "    obclasses = filtering_classess(sentence_for_classes)\n",
        "\n",
        "    singularclasses = []\n",
        "    pluralclasses = []\n",
        "\n",
        "    #for cla in obclasses:\n",
        "        #if str(p.singular_noun(cla)) == \"False\":\n",
        "            #singularclasses.append(cla)\n",
        "            #pluralclasses.append(p.plural(cla))\n",
        "        #else:\n",
        "            #singularclasses.append(p.singular_noun(cla))\n",
        "            #pluralclasses.append(cla)\n",
        "\n",
        "    for ob in obclasses:\n",
        "        attr = []\n",
        "\n",
        "        for ind, word in enumerate(taggedsent2):\n",
        "            # Class Mapping\n",
        "            if (taggedsent2[ind - 1][1] == 'DT' or taggedsent2[ind - 1][1] == 'CD' or taggedsent2[ind - 1][\n",
        "                1] == '.' or taggedsent2[ind - 1][1] == ',' or (ind == 0)) and taggedsent2[ind][0] == ob:\n",
        "                tempind = ind + 1\n",
        "                while len(taggedsent2) > tempind + 3:\n",
        "                    multiclassTF = False\n",
        "                    multiclass = \"\"\n",
        "                    if (not (p.singular_noun(taggedsent2[tempind + 2][0]) not in obclasses)):\n",
        "                        multiclassTF = True\n",
        "                        # multiclass = p.singular_noun(taggedsent2[tempind + 2][0])\n",
        "                    elif (not (taggedsent2[tempind + 2][0] not in obclasses)):\n",
        "                        multiclassTF = True\n",
        "                        # multiclass = taggedsent2[tempind+2][0]\n",
        "\n",
        "                    multiclassTF2 = False\n",
        "                    multiclass2 = \"\"\n",
        "                    if (not (p.singular_noun(taggedsent2[tempind + 3][0]) not in obclasses)):\n",
        "                        multiclassTF2 = True\n",
        "                        # multiclass2 = p.singular_noun(taggedsent2[tempind + 3][0])\n",
        "                    elif (not (taggedsent2[tempind + 3][0] not in obclasses)):\n",
        "                        multiclassTF2 = True\n",
        "                        # multiclass2 = taggedsent2[tempind + 3][0]\n",
        "\n",
        "                    multiclassTF3 = False\n",
        "                    multiclass3 = \"\"\n",
        "                    if len(taggedsent2) > tempind + 4 and (\n",
        "                    not (p.singular_noun(taggedsent2[tempind + 4][0]) not in obclasses)):\n",
        "                        multiclassTF3 = True\n",
        "                        # multiclass3 = p.singular_noun(taggedsent2[tempind + 4][0])\n",
        "                    elif len(taggedsent2) > tempind + 4 and (not (taggedsent2[tempind + 4][0] not in obclasses)):\n",
        "                        multiclassTF3 = True\n",
        "                        # multiclass3 = taggedsent2[tempind + 4][0]\n",
        "\n",
        "                    if (not (taggedsent2[tempind][0] not in obclasses)) or taggedsent2[tempind][1] == '.':\n",
        "                        break\n",
        "                    elif (not pluralT(ob)) and (\n",
        "                            taggedsent2[tempind][1] == 'VB' or taggedsent2[tempind][1] == 'VBN' or (  # A user has an account.\n",
        "                            taggedsent2[tempind][1] == 'VBP' and taggedsent2[tempind][0] != 'are') or (\n",
        "                                    taggedsent2[tempind][1] == 'VBZ' and taggedsent2[tempind][0] != 'is')) and (\n",
        "                            taggedsent2[tempind + 1][1] == 'DT' or taggedsent2[tempind + 1][1] == 'CD') and (\n",
        "                    not pluralT(taggedsent2[tempind + 2][0])) and multiclassTF:\n",
        "                        classmapping = sing(ob) + \"\\\"1\\\" -- \\\"1\\\" \" + sing(\n",
        "                            taggedsent2[tempind + 2][0]) + \" : \" + taggedsent2[tempind][0]\n",
        "\n",
        "                    elif (not pluralT(ob)) and (\n",
        "                            taggedsent2[tempind][1] == 'VB' or taggedsent2[tempind][1] == 'VBN' or (  # A company has many employees.\n",
        "                            taggedsent2[tempind][1] == 'VBP' and taggedsent2[tempind][0] != 'are') or (\n",
        "                                    taggedsent2[tempind][1] == 'VBZ' and taggedsent2[tempind][0] != 'is')) and (\n",
        "                            taggedsent2[tempind + 1][0] == 'multiple' or taggedsent2[tempind + 1][0] == 'many' or\n",
        "                            taggedsent2[tempind + 1][0] == 'any' or pluralT(\n",
        "                            taggedsent2[tempind + 2][0])) and multiclassTF:\n",
        "                        classmapping = sing(ob) + \"\\\"1\\\" -- \\\"many\\\" \" + sing(\n",
        "                            taggedsent2[tempind + 2][0]) + \" : \" + taggedsent2[tempind][0]\n",
        "\n",
        "                    elif pluralT(ob) and (\n",
        "                            taggedsent2[tempind][1] == 'VB' or taggedsent2[tempind][1] == 'VBN' or (  # Many students attend the school.\n",
        "                            taggedsent2[tempind][1] == 'VBP' and taggedsent2[tempind][0] != 'are') or (\n",
        "                                    taggedsent2[tempind][1] == 'VBZ' and taggedsent2[tempind][0] != 'is'))and taggedsent2[tempind+1][1] != '.' and (\n",
        "                    not pluralT(taggedsent2[tempind + 2][0])) and multiclassTF:\n",
        "                        classmapping = sing(ob) + \"\\\"many\\\" -- \\\"1\\\" \" + sing(\n",
        "                            taggedsent2[tempind + 2][0]) + \" : \" + taggedsent2[tempind][0]\n",
        "\n",
        "                    elif pluralT(ob) and (\n",
        "                            taggedsent2[tempind][1] == 'VB' or taggedsent2[tempind][1] == 'VBN' or (  # Many companies hire many workers.\n",
        "                            taggedsent2[tempind][1] == 'VBP' and taggedsent2[tempind][0] != 'are') or (\n",
        "                                    taggedsent2[tempind][1] == 'VBZ' and taggedsent2[tempind][0] != 'is')) and (\n",
        "                            taggedsent2[tempind + 1][0] == 'multiple' or taggedsent2[tempind + 1][0] == 'many' or\n",
        "                            taggedsent2[tempind + 1][0] == 'any' or pluralT(\n",
        "                            taggedsent2[tempind + 2][0])) and multiclassTF:\n",
        "                        classmapping = sing(ob) + \"\\\"many\\\" -- \\\"many\\\" \" + sing(\n",
        "                            taggedsent2[tempind + 2][0]) + \" : \" + taggedsent2[tempind][0]\n",
        "\n",
        "                    if classmapping:\n",
        "                        if ob not in classarr:\n",
        "                            classarr[ob] = []\n",
        "                        classarr[ob].append(classmapping)\n",
        "                        if \"\\\"many\\\" -- \\\"many\\\"\" in classmapping:\n",
        "                            print(f\"Many-to-Many Relationship Found: {classmapping}\")\n",
        "                        elif \"\\\"many\\\" -- \\\"1\\\"\" in classmapping:\n",
        "                            print(f\"Many-to-1 Relationship Found: {classmapping}\")\n",
        "                        elif \"\\\"1\\\" -- \\\"many\\\" \" in classmapping:\n",
        "                            print(f\"1-to-Many Relationship Found: {classmapping}\")\n",
        "                        elif \"\\\"1\\\" -- \\\"1\\\" \" in classmapping:\n",
        "                            print(f\"1-to-1 Relationship Found: {classmapping}\")\n",
        "\n",
        "                    tempind += 1\n",
        "\n",
        "            if ob not in classarr:\n",
        "                classarr[ob] = []\n",
        "            classarr[ob] = list(set(attr)) + classarr.get(ob, [])\n",
        "\n",
        "    return classarr\n",
        "\n"
      ],
      "metadata": {
        "colab": {
          "base_uri": "https://localhost:8080/"
        },
        "id": "5HceT2zTgchX",
        "outputId": "f5673707-226b-4d83-f191-2fab58aa2812"
      },
      "execution_count": null,
      "outputs": [
        {
          "output_type": "stream",
          "name": "stderr",
          "text": [
            "[nltk_data] Downloading package averaged_perceptron_tagger to\n",
            "[nltk_data]     /root/nltk_data...\n",
            "[nltk_data]   Package averaged_perceptron_tagger is already up-to-\n",
            "[nltk_data]       date!\n",
            "[nltk_data] Downloading package wordnet to /root/nltk_data...\n",
            "[nltk_data]   Package wordnet is already up-to-date!\n"
          ]
        }
      ]
    },
    {
      "cell_type": "code",
      "source": [
        "#sentence_for_classes = \"Authors write many books. One book has one author. Many authors write one book.\"\n",
        "sentence_for_classes = \"An author writes many books. One book has one author. Authors write one book.\"\n",
        "\n",
        "(cardinality(sentence_for_classes))"
      ],
      "metadata": {
        "colab": {
          "base_uri": "https://localhost:8080/"
        },
        "id": "pw6eOpEHhbyH",
        "outputId": "82752ca6-d3da-4cb9-8e43-4811d2bbbe99"
      },
      "execution_count": null,
      "outputs": [
        {
          "output_type": "stream",
          "name": "stdout",
          "text": [
            "1-to-Many Relationship Found: author\"1\" -- \"many\" book : writes\n",
            "1-to-Many Relationship Found: author\"1\" -- \"many\" book : writes\n",
            "1-to-1 Relationship Found: book\"1\" -- \"1\" author : has\n",
            "1-to-1 Relationship Found: book\"1\" -- \"1\" author : has\n",
            "1-to-Many Relationship Found: author\"1\" -- \"many\" book : writes\n",
            "1-to-Many Relationship Found: author\"1\" -- \"many\" book : writes\n",
            "1-to-1 Relationship Found: Author\"1\" -- \"1\" book : write\n",
            "1-to-1 Relationship Found: Author\"1\" -- \"1\" book : write\n",
            "1-to-1 Relationship Found: book\"1\" -- \"1\" author : has\n",
            "1-to-1 Relationship Found: book\"1\" -- \"1\" author : has\n"
          ]
        },
        {
          "output_type": "execute_result",
          "data": {
            "text/plain": [
              "{'author': ['author\"1\" -- \"many\" book : writes',\n",
              "  'author\"1\" -- \"many\" book : writes',\n",
              "  'author\"1\" -- \"many\" book : writes',\n",
              "  'author\"1\" -- \"many\" book : writes'],\n",
              " 'books': [],\n",
              " 'book': ['book\"1\" -- \"1\" author : has',\n",
              "  'book\"1\" -- \"1\" author : has',\n",
              "  'book\"1\" -- \"1\" author : has',\n",
              "  'book\"1\" -- \"1\" author : has'],\n",
              " 'Authors': ['Author\"1\" -- \"1\" book : write', 'Author\"1\" -- \"1\" book : write']}"
            ]
          },
          "metadata": {},
          "execution_count": 23
        }
      ]
    },
    {
      "cell_type": "code",
      "source": [
        "import nltk\n",
        "from nltk import pos_tag\n",
        "from nltk.corpus import wordnet as wn\n",
        "from pattern.en import pluralize, singularize\n",
        "\n",
        "# Ensure you have the necessary NLTK data\n",
        "nltk.download('averaged_perceptron_tagger')\n",
        "nltk.download('wordnet')\n",
        "nltk.download('punkt')\n",
        "\n",
        "def classpre_processing(sentence):\n",
        "    tokens = nltk.word_tokenize(sentence)\n",
        "    tagged = pos_tag(tokens)\n",
        "    return tagged\n",
        "\n",
        "def filtering_classes(sentence):\n",
        "    tokens = nltk.word_tokenize(sentence)\n",
        "    tagged = pos_tag(tokens)\n",
        "    classes = [word for word, pos in tagged if pos in ['NN', 'NNS']]\n",
        "    return classes\n",
        "\n",
        "def pluralT(word):\n",
        "    return pluralize(word) == word\n",
        "\n",
        "def sing(word):\n",
        "    return singularize(word)\n",
        "\n",
        "def cardinality(sentence_for_classes):\n",
        "    classarr = {}\n",
        "    taggedsent2 = classpre_processing(sentence_for_classes + \" . . . .\")\n",
        "    obclasses = filtering_classes(sentence_for_classes)\n",
        "\n",
        "    for ob in obclasses:\n",
        "        for ind, word in enumerate(taggedsent2):\n",
        "            # Class Mapping\n",
        "            if (taggedsent2[ind - 1][1] in ['DT', 'CD', '.', ',', ''] or ind == 0) and taggedsent2[ind][0] == ob:\n",
        "                tempind = ind + 1\n",
        "                while len(taggedsent2) > tempind + 3:\n",
        "                    multiclassTF = False\n",
        "                    if (taggedsent2[tempind + 2][0] in obclasses):\n",
        "                        multiclassTF = True\n",
        "\n",
        "                    if (taggedsent2[tempind][0] not in obclasses) and taggedsent2[tempind][1] == '.':\n",
        "                        break\n",
        "\n",
        "                    # Identifying 1-to-1, 1-to-many, many-to-1, many-to-many relationships\n",
        "                    if (not pluralT(ob)) and (taggedsent2[tempind][1] in ['VB', 'VBN', 'VBP', 'VBZ']) and (taggedsent2[tempind + 1][1] in ['DT', 'CD']) and (not pluralT(taggedsent2[tempind + 2][0])) and multiclassTF:\n",
        "                        classmapping = f'{sing(ob)}\"1\" -- \"1\" {sing(taggedsent2[tempind + 2][0])} : {taggedsent2[tempind][0]}'\n",
        "                    elif (not pluralT(ob)) and (taggedsent2[tempind][1] in ['VB', 'VBN', 'VBP', 'VBZ']) and (taggedsent2[tempind + 1][0] in ['multiple', 'many', 'any'] or pluralT(taggedsent2[tempind + 2][0])) and multiclassTF:\n",
        "                        classmapping = f'{sing(ob)}\"1\" -- \"many\" {sing(taggedsent2[tempind + 2][0])} : {taggedsent2[tempind][0]}'\n",
        "                    elif pluralT(ob) and (taggedsent2[tempind][1] in ['VB', 'VBN', 'VBP', 'VBZ']) and taggedsent2[tempind + 1][1] != '.' and (not pluralT(taggedsent2[tempind + 2][0])) and multiclassTF:\n",
        "                        classmapping = f'{sing(ob)}\"many\" -- \"1\" {sing(taggedsent2[tempind + 2][0])} : {taggedsent2[tempind][0]}'\n",
        "                    elif pluralT(ob) and (taggedsent2[tempind][1] in ['VB', 'VBN', 'VBP', 'VBZ']) and (taggedsent2[tempind + 1][0] in ['multiple', 'many', 'any'] or pluralT(taggedsent2[tempind + 2][0])) and multiclassTF:\n",
        "                        classmapping = f'{sing(ob)}\"many\" -- \"many\" {sing(taggedsent2[tempind + 2][0])} : {taggedsent2[tempind][0]}'\n",
        "                    else:\n",
        "                        classmapping = None\n",
        "\n",
        "                    if classmapping:\n",
        "                        if ob not in classarr:\n",
        "                            classarr[ob] = []\n",
        "                        if classmapping not in classarr[ob]:\n",
        "                            classarr[ob].append(classmapping)\n",
        "                        if \"\\\"many\\\" -- \\\"many\\\"\" in classmapping:\n",
        "                            print(f\"Many-to-Many Relationship Found: {classmapping}\")\n",
        "                        elif \"\\\"many\\\" -- \\\"1\\\"\" in classmapping:\n",
        "                            print(f\"Many-to-1 Relationship Found: {classmapping}\")\n",
        "                        elif \"\\\"1\\\" -- \\\"many\\\"\" in classmapping:\n",
        "                            print(f\"1-to-Many Relationship Found: {classmapping}\")\n",
        "                        elif \"\\\"1\\\" -- \\\"1\\\"\" in classmapping:\n",
        "                            print(f\"1-to-1 Relationship Found: {classmapping}\")\n",
        "\n",
        "                    tempind += 1\n",
        "\n",
        "            if ob not in classarr:\n",
        "                classarr[ob] = []\n",
        "\n",
        "    return classarr\n",
        "\n",
        "# Test sentence\n",
        "sentence_for_classes = \"An author writes many books. One book has one author. Authors write one book. Many authors wrote books.\"\n",
        "print(cardinality(sentence_for_classes))\n"
      ],
      "metadata": {
        "colab": {
          "base_uri": "https://localhost:8080/"
        },
        "id": "dP6y39HY8Kwz",
        "outputId": "444152a9-22c9-4bb6-faaa-87993dc211e1"
      },
      "execution_count": null,
      "outputs": [
        {
          "output_type": "stream",
          "name": "stdout",
          "text": [
            "1-to-Many Relationship Found: author\"1\" -- \"many\" book : writes\n",
            "1-to-1 Relationship Found: book\"1\" -- \"1\" author : has\n",
            "1-to-Many Relationship Found: author\"1\" -- \"many\" book : writes\n",
            "1-to-1 Relationship Found: Author\"1\" -- \"1\" book : write\n",
            "1-to-1 Relationship Found: book\"1\" -- \"1\" author : has\n",
            "{'author': ['author\"1\" -- \"many\" book : writes'], 'books': [], 'book': ['book\"1\" -- \"1\" author : has'], 'Authors': ['Author\"1\" -- \"1\" book : write'], 'authors': []}\n"
          ]
        },
        {
          "output_type": "stream",
          "name": "stderr",
          "text": [
            "[nltk_data] Downloading package averaged_perceptron_tagger to\n",
            "[nltk_data]     /root/nltk_data...\n",
            "[nltk_data]   Package averaged_perceptron_tagger is already up-to-\n",
            "[nltk_data]       date!\n",
            "[nltk_data] Downloading package wordnet to /root/nltk_data...\n",
            "[nltk_data]   Package wordnet is already up-to-date!\n",
            "[nltk_data] Downloading package punkt to /root/nltk_data...\n",
            "[nltk_data]   Package punkt is already up-to-date!\n"
          ]
        }
      ]
    },
    {
      "cell_type": "markdown",
      "source": [
        "**Evaluation**"
      ],
      "metadata": {
        "id": "SCYBSx4tVcaz"
      }
    },
    {
      "cell_type": "markdown",
      "source": [
        "Classes Identification"
      ],
      "metadata": {
        "id": "ZhpMPeI1akgC"
      }
    },
    {
      "cell_type": "code",
      "source": [
        "sentence_for_classes = \"Customers browse products, add to cart, and put orders. Each product has ProductID, Name, and Price. Customers are registered with Name, Address, and Email. Admins manage the catalog, adding items or removing outdated items. They also oversee accounts and handle inquiries.\"\n",
        "print(filtering_classess(sentence_for_classes))\n"
      ],
      "metadata": {
        "colab": {
          "base_uri": "https://localhost:8080/"
        },
        "id": "So74wNS7Vfci",
        "outputId": "7e3da2f5-21b5-4c38-89cf-5d5bd44a3a55"
      },
      "execution_count": null,
      "outputs": [
        {
          "output_type": "stream",
          "name": "stdout",
          "text": [
            "['Customers', 'products', 'orders', 'product', 'Customers', 'catalog', 'items', 'items', 'customer', 'accounts', 'inquiries']\n"
          ]
        }
      ]
    },
    {
      "cell_type": "code",
      "source": [
        "sentence_for_classes = \"Doctors diagnose patients and prescribe treatments. Each Doctor has an EmployeeID. Patients are admitted with Name, PatientID.\"\n",
        "print(filtering_classess(sentence_for_classes))\n"
      ],
      "metadata": {
        "colab": {
          "base_uri": "https://localhost:8080/"
        },
        "outputId": "72375813-c60a-4f54-c8a0-de6a43257464",
        "id": "3zVZSeBsa4tZ"
      },
      "execution_count": null,
      "outputs": [
        {
          "output_type": "stream",
          "name": "stdout",
          "text": [
            "['Doctors', 'patients', 'treatments', 'Patients']\n"
          ]
        }
      ]
    },
    {
      "cell_type": "code",
      "source": [
        "sentence_for_classes = \"Customers maintain accounts, make deposits, and withdraw funds. Each account has an AccountNumber, Balance and Type. ATMs process transactions, handle cash deposits. Managers oversee multiple branches, approve loans, and ensure regulatory compliance.\"\n",
        "print(filtering_classess(sentence_for_classes))\n"
      ],
      "metadata": {
        "colab": {
          "base_uri": "https://localhost:8080/"
        },
        "outputId": "e9bd0f41-4a4b-4ebd-eaab-276d1be10f42",
        "id": "3sUVZDyRbvfZ"
      },
      "execution_count": null,
      "outputs": [
        {
          "output_type": "stream",
          "name": "stdout",
          "text": [
            "[]\n",
            "classes\n",
            "before pre-processing\n",
            "[('customers', 'NNS'), ('maintain', 'VBP'), ('accounts', 'NNS'), (',', ','), ('make', 'VBP'), ('deposits', 'NNS'), (',', ','), ('and', 'CC'), ('withdraw', 'JJ'), ('funds', 'NNS'), ('.', '.'), ('each', 'DT'), ('account', 'NN'), ('has', 'VBZ'), ('an', 'DT'), ('accountnumber', 'NN'), (',', ','), ('balance', 'NN'), ('and', 'CC'), ('type', 'NN'), ('.', '.'), ('atms', 'JJ'), ('process', 'NN'), ('transactions', 'NNS'), (',', ','), ('handle', 'VB'), ('cash', 'NN'), ('deposits', 'NNS'), ('.', '.'), ('managers', 'NNS'), ('oversee', 'VBP'), ('multiple', 'JJ'), ('branches', 'NNS'), (',', ','), ('approve', 'VB'), ('loans', 'NNS'), (',', ','), ('and', 'CC'), ('ensure', 'VB'), ('regulatory', 'JJ'), ('compliance', 'NN'), ('.', '.')]\n",
            "After pre-processing\n",
            "[('customers', 'NNS'), ('maintain', 'VBP'), ('accounts', 'NNS'), (',', ','), ('make', 'VBP'), ('deposits', 'NNS'), (',', ','), ('and', 'CC'), ('withdraw', 'NNS'), ('funds', 'NNS'), ('.', '.'), ('each', 'DT'), ('account', 'NN'), ('has', 'VBZ'), ('an', 'DT'), ('accountnumber', 'NN'), (',', ','), ('balance', 'NN'), ('and', 'CC'), ('type', 'NN'), ('.', '.'), ('atms', 'JJ'), ('process', 'NN'), ('transactions', 'NNS'), (',', ','), ('handle', 'VB'), ('cash', 'NN'), ('deposits', 'NNS'), ('.', '.'), ('managers', 'NNS'), ('oversee', 'VBP'), ('multiple', 'NNS'), ('branches', 'NNS'), (',', ','), ('approve', 'VB'), ('loans', 'NNS'), (',', ','), ('and', 'CC'), ('ensure', 'VB'), ('regulatory', 'NNS'), ('compliance', 'NN'), ('.', '.')]\n",
            "True\n",
            "True\n",
            "True\n",
            "True\n",
            "True\n",
            "True\n",
            "True\n",
            "True\n",
            "True\n",
            "True\n",
            "True\n",
            "True\n",
            "True\n",
            "True\n",
            "True\n",
            "True\n",
            "True\n",
            "True\n",
            "True\n",
            "True\n",
            "True\n",
            "True\n",
            "True\n",
            "True\n",
            "True\n",
            "True\n",
            "['customers', 'account', 'managers']\n"
          ]
        }
      ]
    },
    {
      "cell_type": "markdown",
      "source": [
        "Attributes Identification"
      ],
      "metadata": {
        "id": "obTj4sh_gHU3"
      }
    },
    {
      "cell_type": "code",
      "source": [
        "sentence_for_classes = \"Each item can be a product. Products have color. Customers provide phonenumbers and emailaddresses.\"\n",
        "\n",
        "print(filtering_classess(sentence_for_classes))\n",
        "print(filtering_attributes(sentence_for_classes))"
      ],
      "metadata": {
        "colab": {
          "base_uri": "https://localhost:8080/"
        },
        "outputId": "cde6e771-28fd-4062-de47-7fbb88bee076",
        "id": "CPH4tnfPhNj1"
      },
      "execution_count": null,
      "outputs": [
        {
          "output_type": "stream",
          "name": "stdout",
          "text": [
            "[]\n",
            "classes\n",
            "before pre-processing\n",
            "[('each', 'DT'), ('item', 'NN'), ('can', 'MD'), ('be', 'VB'), ('a', 'DT'), ('product', 'NN'), ('.', '.'), ('products', 'NNS'), ('have', 'VBP'), ('color', 'NN'), ('.', '.'), ('customers', 'NNS'), ('provide', 'VBP'), ('phonenumbers', 'NNS'), ('and', 'CC'), ('emailaddresses', 'NNS'), ('.', '.')]\n",
            "After pre-processing\n",
            "[('each', 'DT'), ('item', 'NN'), ('can', 'MD'), ('be', 'VB'), ('a', 'DT'), ('product', 'NN'), ('.', '.'), ('products', 'NNS'), ('have', 'VBP'), ('color', 'NN'), ('.', '.'), ('customers', 'NNS'), ('provide', 'VBP'), ('phonenumbers', 'NNS'), ('and', 'CC'), ('emailaddresses', 'NNS'), ('.', '.')]\n",
            "True\n",
            "True\n",
            "True\n",
            "True\n",
            "True\n",
            "True\n",
            "True\n",
            "True\n",
            "['products', 'customers']\n",
            "before pre-processing\n",
            "[('each', 'DT'), ('item', 'NN'), ('can', 'MD'), ('be', 'VB'), ('a', 'DT'), ('product', 'NN'), ('.', '.'), ('products', 'NNS'), ('have', 'VBP'), ('color', 'NN'), ('.', '.'), ('customers', 'NNS'), ('provide', 'VBP'), ('phonenumbers', 'NNS'), ('and', 'CC'), ('emailaddresses', 'NNS'), ('.', '.'), ('.', '.'), ('.', '.'), ('.', '.'), ('.', '.')]\n",
            "After pre-processing\n",
            "[('each', 'DT'), ('item', 'NN'), ('can', 'MD'), ('be', 'VB'), ('a', 'DT'), ('product', 'NN'), ('.', '.'), ('products', 'NNS'), ('have', 'VBP'), ('color', 'NN'), ('.', '.'), ('customers', 'NNS'), ('provide', 'VBP'), ('phonenumbers', 'NNS'), ('and', 'CC'), ('emailaddresses', 'NNS'), ('.', '.'), ('.', '.'), ('.', '.'), ('.', '.'), ('.', '.')]\n",
            "[]\n",
            "classes\n",
            "before pre-processing\n",
            "[('each', 'DT'), ('item', 'NN'), ('can', 'MD'), ('be', 'VB'), ('a', 'DT'), ('product', 'NN'), ('.', '.'), ('products', 'NNS'), ('have', 'VBP'), ('color', 'NN'), ('.', '.'), ('customers', 'NNS'), ('provide', 'VBP'), ('phonenumbers', 'NNS'), ('and', 'CC'), ('emailaddresses', 'NNS'), ('.', '.')]\n",
            "After pre-processing\n",
            "[('each', 'DT'), ('item', 'NN'), ('can', 'MD'), ('be', 'VB'), ('a', 'DT'), ('product', 'NN'), ('.', '.'), ('products', 'NNS'), ('have', 'VBP'), ('color', 'NN'), ('.', '.'), ('customers', 'NNS'), ('provide', 'VBP'), ('phonenumbers', 'NNS'), ('and', 'CC'), ('emailaddresses', 'NNS'), ('.', '.')]\n",
            "True\n",
            "True\n",
            "True\n",
            "True\n",
            "True\n",
            "True\n",
            "True\n",
            "True\n",
            "product\n",
            "['Jcolor']\n",
            "customer\n",
            "['Vprovide', 'Jphonenumbers', 'Jemailaddresses']\n",
            "attributes\n",
            "{'product': ['color'], 'customer': ['phonenumbers', 'emailaddresses']}\n"
          ]
        }
      ]
    },
    {
      "cell_type": "code",
      "source": [
        "sentence_for_classes = \"Doctors diagnose patients. Doctor prescribes treatments. Each doctor has an EmployeeID. Patient has admitted name, patientID.\"\n",
        "\n",
        "print(filtering_classess(sentence_for_classes))\n",
        "print(filtering_attributes(sentence_for_classes))"
      ],
      "metadata": {
        "colab": {
          "base_uri": "https://localhost:8080/"
        },
        "outputId": "e0b6fdc6-abca-40e2-8a6c-a02ef8c08505",
        "id": "J6fAHoDZoQeS"
      },
      "execution_count": null,
      "outputs": [
        {
          "output_type": "stream",
          "name": "stdout",
          "text": [
            "[]\n",
            "classes\n",
            "before pre-processing\n",
            "[('doctors', 'NNS'), ('diagnose', 'VBP'), ('patients', 'NNS'), ('.', '.'), ('doctor', 'NN'), ('prescribes', 'JJ'), ('treatments', 'NNS'), ('.', '.'), ('each', 'DT'), ('doctor', 'NN'), ('has', 'VBZ'), ('an', 'DT'), ('employeeid', 'NN'), ('.', '.'), ('patient', 'NN'), ('has', 'VBZ'), ('admitted', 'VBN'), ('name', 'NN'), (',', ','), ('patientid', 'NN'), ('.', '.')]\n",
            "After pre-processing\n",
            "[('doctors', 'NNS'), ('diagnose', 'VBP'), ('patients', 'NNS'), ('.', '.'), ('doctor', 'NN'), ('prescribes', 'JJ'), ('treatments', 'NNS'), ('.', '.'), ('each', 'DT'), ('doctor', 'NN'), ('has', 'VBZ'), ('an', 'DT'), ('employeeid', 'NN'), ('.', '.'), ('patient', 'NN'), ('has', 'VBZ'), ('admitted', 'VBN'), ('name', 'NN'), (',', ','), ('patientid', 'NN'), ('.', '.')]\n",
            "True\n",
            "True\n",
            "True\n",
            "True\n",
            "True\n",
            "True\n",
            "True\n",
            "True\n",
            "True\n",
            "True\n",
            "True\n",
            "True\n",
            "['doctors', 'doctor', 'patient']\n",
            "before pre-processing\n",
            "[('doctors', 'NNS'), ('diagnose', 'VBP'), ('patients', 'NNS'), ('.', '.'), ('doctor', 'NN'), ('prescribes', 'JJ'), ('treatments', 'NNS'), ('.', '.'), ('each', 'DT'), ('doctor', 'NN'), ('has', 'VBZ'), ('an', 'DT'), ('employeeid', 'NN'), ('.', '.'), ('patient', 'NN'), ('has', 'VBZ'), ('admitted', 'VBN'), ('name', 'NN'), (',', ','), ('patientid', 'NN'), ('.', '.'), ('.', '.'), ('.', '.'), ('.', '.'), ('.', '.')]\n",
            "After pre-processing\n",
            "[('doctors', 'NNS'), ('diagnose', 'VBP'), ('patients', 'NNS'), ('.', '.'), ('doctor', 'NN'), ('prescribes', 'JJ'), ('treatments', 'NNS'), ('.', '.'), ('each', 'DT'), ('doctor', 'NN'), ('has', 'VBZ'), ('an', 'DT'), ('employeeid', 'NN'), ('.', '.'), ('patient', 'NN'), ('has', 'VBZ'), ('admitted', 'VBN'), ('name', 'NN'), (',', ','), ('patientid', 'NN'), ('.', '.'), ('.', '.'), ('.', '.'), ('.', '.'), ('.', '.')]\n",
            "[]\n",
            "classes\n",
            "before pre-processing\n",
            "[('doctors', 'NNS'), ('diagnose', 'VBP'), ('patients', 'NNS'), ('.', '.'), ('doctor', 'NN'), ('prescribes', 'JJ'), ('treatments', 'NNS'), ('.', '.'), ('each', 'DT'), ('doctor', 'NN'), ('has', 'VBZ'), ('an', 'DT'), ('employeeid', 'NN'), ('.', '.'), ('patient', 'NN'), ('has', 'VBZ'), ('admitted', 'VBN'), ('name', 'NN'), (',', ','), ('patientid', 'NN'), ('.', '.')]\n",
            "After pre-processing\n",
            "[('doctors', 'NNS'), ('diagnose', 'VBP'), ('patients', 'NNS'), ('.', '.'), ('doctor', 'NN'), ('prescribes', 'JJ'), ('treatments', 'NNS'), ('.', '.'), ('each', 'DT'), ('doctor', 'NN'), ('has', 'VBZ'), ('an', 'DT'), ('employeeid', 'NN'), ('.', '.'), ('patient', 'NN'), ('has', 'VBZ'), ('admitted', 'VBN'), ('name', 'NN'), (',', ','), ('patientid', 'NN'), ('.', '.')]\n",
            "True\n",
            "True\n",
            "True\n",
            "True\n",
            "True\n",
            "True\n",
            "True\n",
            "True\n",
            "True\n",
            "True\n",
            "True\n",
            "True\n",
            "doctor\n",
            "['Vdiagnose', 'Jemployeeid']\n",
            "patient\n",
            "['Vadmitted', 'Jname', 'Jpatientid']\n",
            "attributes\n",
            "{'doctor': ['employeeid'], 'patient': ['name', 'patientid']}\n"
          ]
        }
      ]
    },
    {
      "cell_type": "code",
      "source": [
        "sentence_for_classes = \"The university offers courses. Students can enroll in courses. Students have name, email, major, year. Professors teach courses who has name, email, department. Each course has a syllabus. Course has title, syllabus, departmentID. Department has departmentID, name, building. Students can view their grades for each course. Grade has gradeID, studentID, courseID, grade. The university has departments, and each course belongs to a department.\"\n",
        "\n",
        "print(filtering_classess(sentence_for_classes))\n",
        "#print(filtering_attributes(sentence_for_classes))"
      ],
      "metadata": {
        "colab": {
          "base_uri": "https://localhost:8080/"
        },
        "outputId": "16393851-8ecf-495b-f186-fbf86fd2d5c5",
        "id": "jFuM7Sfxowwz"
      },
      "execution_count": null,
      "outputs": [
        {
          "output_type": "stream",
          "name": "stdout",
          "text": [
            "[]\n",
            "classes\n",
            "before pre-processing\n",
            "[('the', 'DT'), ('university', 'NN'), ('offers', 'VBZ'), ('courses', 'NNS'), ('.', '.'), ('students', 'NNS'), ('can', 'MD'), ('enroll', 'VB'), ('in', 'IN'), ('courses', 'NNS'), ('.', '.'), ('students', 'NNS'), ('have', 'VBP'), ('name', 'NN'), (',', ','), ('email', 'NN'), (',', ','), ('major', 'JJ'), (',', ','), ('year', 'NN'), ('.', '.'), ('professors', 'NNS'), ('teach', 'VBP'), ('courses', 'NNS'), ('who', 'WP'), ('has', 'VBZ'), ('name', 'NN'), (',', ','), ('email', 'NN'), (',', ','), ('department', 'NN'), ('.', '.'), ('each', 'DT'), ('course', 'NN'), ('has', 'VBZ'), ('a', 'DT'), ('syllabus', 'NN'), ('.', '.'), ('course', 'NN'), ('has', 'VBZ'), ('title', 'NN'), (',', ','), ('syllabus', 'NN'), (',', ','), ('departmentid', 'NN'), ('.', '.'), ('department', 'NN'), ('has', 'VBZ'), ('departmentid', 'VBN'), (',', ','), ('name', 'NN'), (',', ','), ('building', 'NN'), ('.', '.'), ('students', 'NNS'), ('can', 'MD'), ('view', 'VB'), ('their', 'PRP$'), ('grades', 'NNS'), ('for', 'IN'), ('each', 'DT'), ('course', 'NN'), ('.', '.'), ('grade', 'NN'), ('has', 'VBZ'), ('gradeid', 'VBN'), (',', ','), ('studentid', 'NN'), (',', ','), ('courseid', 'NN'), (',', ','), ('grade', 'NN'), ('.', '.'), ('the', 'DT'), ('university', 'NN'), ('has', 'VBZ'), ('departments', 'NNS'), (',', ','), ('and', 'CC'), ('each', 'DT'), ('course', 'NN'), ('belongs', 'VBZ'), ('to', 'TO'), ('a', 'DT'), ('department', 'NN'), ('.', '.')]\n",
            "After pre-processing\n",
            "[('the', 'DT'), ('university', 'NN'), ('offers', 'VBZ'), ('courses', 'NNS'), ('.', '.'), ('students', 'NNS'), ('can', 'MD'), ('enroll', 'VB'), ('in', 'IN'), ('courses', 'NNS'), ('.', '.'), ('students', 'NNS'), ('have', 'VBP'), ('name', 'NN'), (',', ','), ('email', 'NN'), (',', ','), ('major', 'NNS'), (',', ','), ('year', 'NN'), ('.', '.'), ('professors', 'NNS'), ('teach', 'VBP'), ('courses', 'NNS'), ('who', 'WP'), ('has', 'VBZ'), ('name', 'NN'), (',', ','), ('email', 'NN'), (',', ','), ('department', 'NN'), ('.', '.'), ('each', 'DT'), ('course', 'NN'), ('has', 'VBZ'), ('a', 'DT'), ('syllabus', 'NN'), ('.', '.'), ('course', 'NN'), ('has', 'VBZ'), ('title', 'NN'), (',', ','), ('syllabus', 'NN'), (',', ','), ('departmentid', 'NN'), ('.', '.'), ('department', 'NN'), ('has', 'VBZ'), ('departmentid', 'VBN'), (',', ','), ('name', 'NN'), (',', ','), ('building', 'NN'), ('.', '.'), ('students', 'NNS'), ('can', 'MD'), ('view', 'VB'), ('their', 'PRP$'), ('grades', 'NNS'), ('for', 'IN'), ('each', 'DT'), ('course', 'NN'), ('.', '.'), ('grade', 'NN'), ('has', 'VBZ'), ('gradeid', 'VBN'), (',', ','), ('studentid', 'NN'), (',', ','), ('courseid', 'NN'), (',', ','), ('grade', 'NN'), ('.', '.'), ('the', 'DT'), ('university', 'NN'), ('has', 'VBZ'), ('departments', 'NNS'), (',', ','), ('and', 'CC'), ('each', 'DT'), ('course', 'NN'), ('belongs', 'VBZ'), ('to', 'TO'), ('a', 'DT'), ('department', 'NN'), ('.', '.')]\n",
            "True\n",
            "True\n",
            "True\n",
            "True\n",
            "True\n",
            "True\n",
            "True\n",
            "True\n",
            "True\n",
            "True\n",
            "True\n",
            "True\n",
            "True\n",
            "True\n",
            "True\n",
            "True\n",
            "True\n",
            "True\n",
            "True\n",
            "True\n",
            "True\n",
            "True\n",
            "True\n",
            "True\n",
            "True\n",
            "True\n",
            "True\n",
            "True\n",
            "True\n",
            "True\n",
            "True\n",
            "True\n",
            "True\n",
            "True\n",
            "True\n",
            "True\n",
            "True\n",
            "True\n",
            "['university', 'students', 'professors', 'course', 'department', 'grade']\n"
          ]
        }
      ]
    },
    {
      "cell_type": "code",
      "source": [
        "print(filtering_attributes(sentence_for_classes))"
      ],
      "metadata": {
        "colab": {
          "base_uri": "https://localhost:8080/"
        },
        "id": "7iPkhwKFuvrf",
        "outputId": "9f95fe8d-6648-431a-a85d-2df0f6e91b20"
      },
      "execution_count": null,
      "outputs": [
        {
          "output_type": "stream",
          "name": "stdout",
          "text": [
            "before pre-processing\n",
            "[('the', 'DT'), ('university', 'NN'), ('offers', 'VBZ'), ('courses', 'NNS'), ('.', '.'), ('students', 'NNS'), ('can', 'MD'), ('enroll', 'VB'), ('in', 'IN'), ('courses', 'NNS'), ('.', '.'), ('students', 'NNS'), ('have', 'VBP'), ('name', 'NN'), (',', ','), ('email', 'NN'), (',', ','), ('major', 'JJ'), (',', ','), ('year', 'NN'), ('.', '.'), ('professors', 'NNS'), ('teach', 'VBP'), ('courses', 'NNS'), ('who', 'WP'), ('has', 'VBZ'), ('name', 'NN'), (',', ','), ('email', 'NN'), (',', ','), ('department', 'NN'), ('.', '.'), ('each', 'DT'), ('course', 'NN'), ('has', 'VBZ'), ('a', 'DT'), ('syllabus', 'NN'), ('.', '.'), ('course', 'NN'), ('has', 'VBZ'), ('title', 'NN'), (',', ','), ('syllabus', 'NN'), (',', ','), ('departmentid', 'NN'), ('.', '.'), ('department', 'NN'), ('has', 'VBZ'), ('departmentid', 'VBN'), (',', ','), ('name', 'NN'), (',', ','), ('building', 'NN'), ('.', '.'), ('students', 'NNS'), ('can', 'MD'), ('view', 'VB'), ('their', 'PRP$'), ('grades', 'NNS'), ('for', 'IN'), ('each', 'DT'), ('course', 'NN'), ('.', '.'), ('grade', 'NN'), ('has', 'VBZ'), ('gradeid', 'VBN'), (',', ','), ('studentid', 'NN'), (',', ','), ('courseid', 'NN'), (',', ','), ('grade', 'NN'), ('.', '.'), ('the', 'DT'), ('university', 'NN'), ('has', 'VBZ'), ('departments', 'NNS'), (',', ','), ('and', 'CC'), ('each', 'DT'), ('course', 'NN'), ('belongs', 'VBZ'), ('to', 'TO'), ('a', 'DT'), ('department', 'NN'), ('.', '.'), ('.', '.'), ('.', '.'), ('.', '.'), ('.', '.')]\n",
            "After pre-processing\n",
            "[('the', 'DT'), ('university', 'NN'), ('offers', 'VBZ'), ('courses', 'NNS'), ('.', '.'), ('students', 'NNS'), ('can', 'MD'), ('enroll', 'VB'), ('in', 'IN'), ('courses', 'NNS'), ('.', '.'), ('students', 'NNS'), ('have', 'VBP'), ('name', 'NN'), (',', ','), ('email', 'NN'), (',', ','), ('major', 'NNS'), (',', ','), ('year', 'NN'), ('.', '.'), ('professors', 'NNS'), ('teach', 'VBP'), ('courses', 'NNS'), ('who', 'WP'), ('has', 'VBZ'), ('name', 'NN'), (',', ','), ('email', 'NN'), (',', ','), ('department', 'NN'), ('.', '.'), ('each', 'DT'), ('course', 'NN'), ('has', 'VBZ'), ('a', 'DT'), ('syllabus', 'NN'), ('.', '.'), ('course', 'NN'), ('has', 'VBZ'), ('title', 'NN'), (',', ','), ('syllabus', 'NN'), (',', ','), ('departmentid', 'NN'), ('.', '.'), ('department', 'NN'), ('has', 'VBZ'), ('departmentid', 'VBN'), (',', ','), ('name', 'NN'), (',', ','), ('building', 'NN'), ('.', '.'), ('students', 'NNS'), ('can', 'MD'), ('view', 'VB'), ('their', 'PRP$'), ('grades', 'NNS'), ('for', 'IN'), ('each', 'DT'), ('course', 'NN'), ('.', '.'), ('grade', 'NN'), ('has', 'VBZ'), ('gradeid', 'VBN'), (',', ','), ('studentid', 'NN'), (',', ','), ('courseid', 'NN'), (',', ','), ('grade', 'NN'), ('.', '.'), ('the', 'DT'), ('university', 'NN'), ('has', 'VBZ'), ('departments', 'NNS'), (',', ','), ('and', 'CC'), ('each', 'DT'), ('course', 'NN'), ('belongs', 'VBZ'), ('to', 'TO'), ('a', 'DT'), ('department', 'NN'), ('.', '.'), ('.', '.'), ('.', '.'), ('.', '.'), ('.', '.')]\n",
            "[]\n",
            "classes\n",
            "before pre-processing\n",
            "[('the', 'DT'), ('university', 'NN'), ('offers', 'VBZ'), ('courses', 'NNS'), ('.', '.'), ('students', 'NNS'), ('can', 'MD'), ('enroll', 'VB'), ('in', 'IN'), ('courses', 'NNS'), ('.', '.'), ('students', 'NNS'), ('have', 'VBP'), ('name', 'NN'), (',', ','), ('email', 'NN'), (',', ','), ('major', 'JJ'), (',', ','), ('year', 'NN'), ('.', '.'), ('professors', 'NNS'), ('teach', 'VBP'), ('courses', 'NNS'), ('who', 'WP'), ('has', 'VBZ'), ('name', 'NN'), (',', ','), ('email', 'NN'), (',', ','), ('department', 'NN'), ('.', '.'), ('each', 'DT'), ('course', 'NN'), ('has', 'VBZ'), ('a', 'DT'), ('syllabus', 'NN'), ('.', '.'), ('course', 'NN'), ('has', 'VBZ'), ('title', 'NN'), (',', ','), ('syllabus', 'NN'), (',', ','), ('departmentid', 'NN'), ('.', '.'), ('department', 'NN'), ('has', 'VBZ'), ('departmentid', 'VBN'), (',', ','), ('name', 'NN'), (',', ','), ('building', 'NN'), ('.', '.'), ('students', 'NNS'), ('can', 'MD'), ('view', 'VB'), ('their', 'PRP$'), ('grades', 'NNS'), ('for', 'IN'), ('each', 'DT'), ('course', 'NN'), ('.', '.'), ('grade', 'NN'), ('has', 'VBZ'), ('gradeid', 'VBN'), (',', ','), ('studentid', 'NN'), (',', ','), ('courseid', 'NN'), (',', ','), ('grade', 'NN'), ('.', '.'), ('the', 'DT'), ('university', 'NN'), ('has', 'VBZ'), ('departments', 'NNS'), (',', ','), ('and', 'CC'), ('each', 'DT'), ('course', 'NN'), ('belongs', 'VBZ'), ('to', 'TO'), ('a', 'DT'), ('department', 'NN'), ('.', '.')]\n",
            "After pre-processing\n",
            "[('the', 'DT'), ('university', 'NN'), ('offers', 'VBZ'), ('courses', 'NNS'), ('.', '.'), ('students', 'NNS'), ('can', 'MD'), ('enroll', 'VB'), ('in', 'IN'), ('courses', 'NNS'), ('.', '.'), ('students', 'NNS'), ('have', 'VBP'), ('name', 'NN'), (',', ','), ('email', 'NN'), (',', ','), ('major', 'NNS'), (',', ','), ('year', 'NN'), ('.', '.'), ('professors', 'NNS'), ('teach', 'VBP'), ('courses', 'NNS'), ('who', 'WP'), ('has', 'VBZ'), ('name', 'NN'), (',', ','), ('email', 'NN'), (',', ','), ('department', 'NN'), ('.', '.'), ('each', 'DT'), ('course', 'NN'), ('has', 'VBZ'), ('a', 'DT'), ('syllabus', 'NN'), ('.', '.'), ('course', 'NN'), ('has', 'VBZ'), ('title', 'NN'), (',', ','), ('syllabus', 'NN'), (',', ','), ('departmentid', 'NN'), ('.', '.'), ('department', 'NN'), ('has', 'VBZ'), ('departmentid', 'VBN'), (',', ','), ('name', 'NN'), (',', ','), ('building', 'NN'), ('.', '.'), ('students', 'NNS'), ('can', 'MD'), ('view', 'VB'), ('their', 'PRP$'), ('grades', 'NNS'), ('for', 'IN'), ('each', 'DT'), ('course', 'NN'), ('.', '.'), ('grade', 'NN'), ('has', 'VBZ'), ('gradeid', 'VBN'), (',', ','), ('studentid', 'NN'), (',', ','), ('courseid', 'NN'), (',', ','), ('grade', 'NN'), ('.', '.'), ('the', 'DT'), ('university', 'NN'), ('has', 'VBZ'), ('departments', 'NNS'), (',', ','), ('and', 'CC'), ('each', 'DT'), ('course', 'NN'), ('belongs', 'VBZ'), ('to', 'TO'), ('a', 'DT'), ('department', 'NN'), ('.', '.')]\n",
            "True\n",
            "True\n",
            "True\n",
            "True\n",
            "True\n",
            "True\n",
            "True\n",
            "True\n",
            "True\n",
            "True\n",
            "True\n",
            "True\n",
            "True\n",
            "True\n",
            "True\n",
            "True\n",
            "True\n",
            "True\n",
            "True\n",
            "True\n",
            "True\n",
            "True\n",
            "True\n",
            "True\n",
            "True\n",
            "True\n",
            "True\n",
            "True\n",
            "True\n",
            "True\n",
            "True\n",
            "True\n",
            "True\n",
            "True\n",
            "True\n",
            "True\n",
            "True\n",
            "True\n",
            "university\n",
            "[]\n",
            "student\n",
            "['Venroll', 'Jname', 'Jemail', 'Jmajor', 'Jyear', 'Vview']\n",
            "professor\n",
            "['Vteach', 'Jname', 'Jemail']\n",
            "course\n",
            "['Jsyllabus', 'Jtitle', 'Jsyllabus', 'Jdepartmentid']\n",
            "department\n",
            "['Vdepartmentid', 'Jname', 'Jbuilding']\n",
            "grade\n",
            "['Vgradeid', 'Jstudentid', 'Jcourseid']\n",
            "attributes\n",
            "{'university': [], 'student': ['name', 'email', 'major', 'year'], 'professor': ['name', 'email'], 'course': ['syllabus', 'title', 'departmentid'], 'department': ['name', 'building'], 'grade': ['studentid', 'courseid']}\n"
          ]
        }
      ]
    },
    {
      "cell_type": "code",
      "source": [
        "sentence_for_classes = \"Customer owns Account. Customer has customerID, name, email, address, phone. Account has Transaction. Account has accountID, type, balance, customerID. Transaction has transactionID, accountID, date, amount, type. Customer applies for Loan. Loan has Repayment. Loan has  loanID, amount, interestRate, term, customerID.\"\n",
        "\n",
        "print(filtering_classess(sentence_for_classes))\n",
        "#print(filtering_attributes(sentence_for_classes))"
      ],
      "metadata": {
        "colab": {
          "base_uri": "https://localhost:8080/"
        },
        "outputId": "3dca6248-560c-4b73-c4c8-ae780ce88f3d",
        "id": "LZ8m83PrwgFW"
      },
      "execution_count": null,
      "outputs": [
        {
          "output_type": "stream",
          "name": "stdout",
          "text": [
            "[]\n",
            "classes\n",
            "before pre-processing\n",
            "[('customer', 'NN'), ('owns', 'VBZ'), ('account', 'NN'), ('.', '.'), ('customer', 'NN'), ('has', 'VBZ'), ('customerid', 'VBN'), (',', ','), ('name', 'NN'), (',', ','), ('email', 'NN'), (',', ','), ('address', 'NN'), (',', ','), ('phone', 'NN'), ('.', '.'), ('account', 'NN'), ('has', 'VBZ'), ('transaction', 'NN'), ('.', '.'), ('account', 'NN'), ('has', 'VBZ'), ('accountid', 'VBN'), (',', ','), ('type', 'NN'), (',', ','), ('balance', 'NN'), (',', ','), ('customerid', 'JJ'), ('.', '.'), ('transaction', 'NN'), ('has', 'VBZ'), ('transactionid', 'VBN'), (',', ','), ('accountid', 'RB'), (',', ','), ('date', 'NN'), (',', ','), ('amount', 'NN'), (',', ','), ('type', 'NN'), ('.', '.'), ('customer', 'NN'), ('applies', 'NNS'), ('for', 'IN'), ('loan', 'NN'), ('.', '.'), ('loan', 'NN'), ('has', 'VBZ'), ('repayment', 'VBN'), ('.', '.'), ('loan', 'NN'), ('has', 'VBZ'), ('loanid', 'VBN'), (',', ','), ('amount', 'NN'), (',', ','), ('interestrate', 'NN'), (',', ','), ('term', 'NN'), (',', ','), ('customerid', 'NN'), ('.', '.')]\n",
            "After pre-processing\n",
            "[('customer', 'NN'), ('owns', 'VBZ'), ('account', 'NN'), ('.', '.'), ('customer', 'NN'), ('has', 'VBZ'), ('customerid', 'VBN'), (',', ','), ('name', 'NN'), (',', ','), ('email', 'NN'), (',', ','), ('address', 'NN'), (',', ','), ('phone', 'NN'), ('.', '.'), ('account', 'NN'), ('has', 'VBZ'), ('transaction', 'NN'), ('.', '.'), ('account', 'NN'), ('has', 'VBZ'), ('accountid', 'VBN'), (',', ','), ('type', 'NN'), (',', ','), ('balance', 'NN'), (',', ','), ('customerid', 'NNS'), ('.', '.'), ('transaction', 'NN'), ('has', 'VBZ'), ('transactionid', 'VBN'), (',', ','), ('accountid', 'RB'), (',', ','), ('date', 'NN'), (',', ','), ('amount', 'NN'), (',', ','), ('type', 'NN'), ('.', '.'), ('customer', 'NN'), ('applies', 'VBP'), ('for', 'IN'), ('loan', 'NN'), ('.', '.'), ('loan', 'NN'), ('has', 'VBZ'), ('repayment', 'VBN'), ('.', '.'), ('loan', 'NN'), ('has', 'VBZ'), ('loanid', 'VBN'), (',', ','), ('amount', 'NN'), (',', ','), ('interestrate', 'NN'), (',', ','), ('term', 'NN'), (',', ','), ('customerid', 'NN'), ('.', '.')]\n",
            "True\n",
            "True\n",
            "True\n",
            "True\n",
            "True\n",
            "True\n",
            "True\n",
            "True\n",
            "True\n",
            "True\n",
            "True\n",
            "True\n",
            "True\n",
            "True\n",
            "True\n",
            "True\n",
            "True\n",
            "True\n",
            "['customer', 'account', 'transaction', 'loan']\n"
          ]
        }
      ]
    },
    {
      "cell_type": "code",
      "source": [
        "print(filtering_attributes(sentence_for_classes))"
      ],
      "metadata": {
        "colab": {
          "base_uri": "https://localhost:8080/"
        },
        "id": "GebHJmPkx6IM",
        "outputId": "b6767c09-de6a-40b4-d3b3-8d461f22f840"
      },
      "execution_count": null,
      "outputs": [
        {
          "output_type": "stream",
          "name": "stdout",
          "text": [
            "before pre-processing\n",
            "[('customer', 'NN'), ('owns', 'VBZ'), ('account', 'NN'), ('.', '.'), ('customer', 'NN'), ('has', 'VBZ'), ('customerid', 'VBN'), (',', ','), ('name', 'NN'), (',', ','), ('email', 'NN'), (',', ','), ('address', 'NN'), (',', ','), ('phone', 'NN'), ('.', '.'), ('account', 'NN'), ('has', 'VBZ'), ('transaction', 'NN'), ('.', '.'), ('account', 'NN'), ('has', 'VBZ'), ('accountid', 'VBN'), (',', ','), ('type', 'NN'), (',', ','), ('balance', 'NN'), (',', ','), ('customerid', 'JJ'), ('.', '.'), ('transaction', 'NN'), ('has', 'VBZ'), ('transactionid', 'VBN'), (',', ','), ('accountid', 'RB'), (',', ','), ('date', 'NN'), (',', ','), ('amount', 'NN'), (',', ','), ('type', 'NN'), ('.', '.'), ('customer', 'NN'), ('applies', 'NNS'), ('for', 'IN'), ('loan', 'NN'), ('.', '.'), ('loan', 'NN'), ('has', 'VBZ'), ('repayment', 'VBN'), ('.', '.'), ('loan', 'NN'), ('has', 'VBZ'), ('loanid', 'VBN'), (',', ','), ('amount', 'NN'), (',', ','), ('interestrate', 'NN'), (',', ','), ('term', 'NN'), (',', ','), ('customerid', 'NN'), ('.', '.'), ('.', '.'), ('.', '.'), ('.', '.'), ('.', '.')]\n",
            "After pre-processing\n",
            "[('customer', 'NN'), ('owns', 'VBZ'), ('account', 'NN'), ('.', '.'), ('customer', 'NN'), ('has', 'VBZ'), ('customerid', 'VBN'), (',', ','), ('name', 'NN'), (',', ','), ('email', 'NN'), (',', ','), ('address', 'NN'), (',', ','), ('phone', 'NN'), ('.', '.'), ('account', 'NN'), ('has', 'VBZ'), ('transaction', 'NN'), ('.', '.'), ('account', 'NN'), ('has', 'VBZ'), ('accountid', 'VBN'), (',', ','), ('type', 'NN'), (',', ','), ('balance', 'NN'), (',', ','), ('customerid', 'NNS'), ('.', '.'), ('transaction', 'NN'), ('has', 'VBZ'), ('transactionid', 'VBN'), (',', ','), ('accountid', 'RB'), (',', ','), ('date', 'NN'), (',', ','), ('amount', 'NN'), (',', ','), ('type', 'NN'), ('.', '.'), ('customer', 'NN'), ('applies', 'VBP'), ('for', 'IN'), ('loan', 'NN'), ('.', '.'), ('loan', 'NN'), ('has', 'VBZ'), ('repayment', 'VBN'), ('.', '.'), ('loan', 'NN'), ('has', 'VBZ'), ('loanid', 'VBN'), (',', ','), ('amount', 'NN'), (',', ','), ('interestrate', 'NN'), (',', ','), ('term', 'NN'), (',', ','), ('customerid', 'NN'), ('.', '.'), ('.', '.'), ('.', '.'), ('.', '.'), ('.', '.')]\n",
            "[]\n",
            "classes\n",
            "before pre-processing\n",
            "[('customer', 'NN'), ('owns', 'VBZ'), ('account', 'NN'), ('.', '.'), ('customer', 'NN'), ('has', 'VBZ'), ('customerid', 'VBN'), (',', ','), ('name', 'NN'), (',', ','), ('email', 'NN'), (',', ','), ('address', 'NN'), (',', ','), ('phone', 'NN'), ('.', '.'), ('account', 'NN'), ('has', 'VBZ'), ('transaction', 'NN'), ('.', '.'), ('account', 'NN'), ('has', 'VBZ'), ('accountid', 'VBN'), (',', ','), ('type', 'NN'), (',', ','), ('balance', 'NN'), (',', ','), ('customerid', 'JJ'), ('.', '.'), ('transaction', 'NN'), ('has', 'VBZ'), ('transactionid', 'VBN'), (',', ','), ('accountid', 'RB'), (',', ','), ('date', 'NN'), (',', ','), ('amount', 'NN'), (',', ','), ('type', 'NN'), ('.', '.'), ('customer', 'NN'), ('applies', 'NNS'), ('for', 'IN'), ('loan', 'NN'), ('.', '.'), ('loan', 'NN'), ('has', 'VBZ'), ('repayment', 'VBN'), ('.', '.'), ('loan', 'NN'), ('has', 'VBZ'), ('loanid', 'VBN'), (',', ','), ('amount', 'NN'), (',', ','), ('interestrate', 'NN'), (',', ','), ('term', 'NN'), (',', ','), ('customerid', 'NN'), ('.', '.')]\n",
            "After pre-processing\n",
            "[('customer', 'NN'), ('owns', 'VBZ'), ('account', 'NN'), ('.', '.'), ('customer', 'NN'), ('has', 'VBZ'), ('customerid', 'VBN'), (',', ','), ('name', 'NN'), (',', ','), ('email', 'NN'), (',', ','), ('address', 'NN'), (',', ','), ('phone', 'NN'), ('.', '.'), ('account', 'NN'), ('has', 'VBZ'), ('transaction', 'NN'), ('.', '.'), ('account', 'NN'), ('has', 'VBZ'), ('accountid', 'VBN'), (',', ','), ('type', 'NN'), (',', ','), ('balance', 'NN'), (',', ','), ('customerid', 'NNS'), ('.', '.'), ('transaction', 'NN'), ('has', 'VBZ'), ('transactionid', 'VBN'), (',', ','), ('accountid', 'RB'), (',', ','), ('date', 'NN'), (',', ','), ('amount', 'NN'), (',', ','), ('type', 'NN'), ('.', '.'), ('customer', 'NN'), ('applies', 'VBP'), ('for', 'IN'), ('loan', 'NN'), ('.', '.'), ('loan', 'NN'), ('has', 'VBZ'), ('repayment', 'VBN'), ('.', '.'), ('loan', 'NN'), ('has', 'VBZ'), ('loanid', 'VBN'), (',', ','), ('amount', 'NN'), (',', ','), ('interestrate', 'NN'), (',', ','), ('term', 'NN'), (',', ','), ('customerid', 'NN'), ('.', '.')]\n",
            "True\n",
            "True\n",
            "True\n",
            "True\n",
            "True\n",
            "True\n",
            "True\n",
            "True\n",
            "True\n",
            "True\n",
            "True\n",
            "True\n",
            "True\n",
            "True\n",
            "True\n",
            "True\n",
            "True\n",
            "True\n",
            "customer\n",
            "['Vcustomerid', 'Jname', 'Jemail', 'Jaddress', 'Jphone', 'Vapplies']\n",
            "account\n",
            "['Vaccountid', 'Jtype', 'Jbalance', 'Jcustomerid']\n",
            "transaction\n",
            "['Vtransactionid', 'Jdate', 'Jamount', 'Jtype']\n",
            "loan\n",
            "['Vrepayment', 'Vloanid', 'Jamount', 'Jinterestrate', 'Jterm', 'Jcustomerid']\n",
            "attributes\n",
            "{'customer': ['name', 'email', 'address', 'phone'], 'account': ['type', 'balance', 'customerid'], 'transaction': ['date', 'amount', 'type'], 'loan': ['amount', 'interestrate', 'term', 'customerid']}\n"
          ]
        }
      ]
    },
    {
      "cell_type": "code",
      "source": [
        "sentence_for_classes = \"Student enrolls in Course. Student has studentID, name, email, major. Course created by Instructor. Course has  courseID, title, syllabus, instructorID. Instructor has instructorID, name, email, department. Course has Lesson. Course has Quiz. Quiz taken by Student. Quiz has quizID, courseID, title, date. Certificate issued to Student for Course.\"\n",
        "\n",
        "print(filtering_classess(sentence_for_classes))\n",
        "#print(filtering_attributes(sentence_for_classes))"
      ],
      "metadata": {
        "colab": {
          "base_uri": "https://localhost:8080/"
        },
        "outputId": "49dd93a2-f7dc-47d3-d687-6f1a5779d189",
        "id": "sZyxyXjkyJVs"
      },
      "execution_count": null,
      "outputs": [
        {
          "output_type": "stream",
          "name": "stdout",
          "text": [
            "[]\n",
            "classes\n",
            "before pre-processing\n",
            "[('student', 'NN'), ('enrolls', 'NNS'), ('in', 'IN'), ('course', 'NN'), ('.', '.'), ('student', 'NN'), ('has', 'VBZ'), ('studentid', 'VBN'), (',', ','), ('name', 'NN'), (',', ','), ('email', 'NN'), (',', ','), ('major', 'JJ'), ('.', '.'), ('course', 'NN'), ('created', 'VBN'), ('by', 'IN'), ('instructor', 'NN'), ('.', '.'), ('course', 'NN'), ('has', 'VBZ'), ('courseid', 'VBN'), (',', ','), ('title', 'NN'), (',', ','), ('syllabus', 'NN'), (',', ','), ('instructorid', 'JJ'), ('.', '.'), ('instructor', 'NN'), ('has', 'VBZ'), ('instructorid', 'VBN'), (',', ','), ('name', 'NN'), (',', ','), ('email', 'NN'), (',', ','), ('department', 'NN'), ('.', '.'), ('course', 'NN'), ('has', 'VBZ'), ('lesson', 'VBN'), ('.', '.'), ('course', 'NN'), ('has', 'VBZ'), ('quiz', 'VBN'), ('.', '.'), ('quiz', 'NN'), ('taken', 'VBN'), ('by', 'IN'), ('student', 'NN'), ('.', '.'), ('quiz', 'NN'), ('has', 'VBZ'), ('quizid', 'VBN'), (',', ','), ('courseid', 'NN'), (',', ','), ('title', 'NN'), (',', ','), ('date', 'NN'), ('.', '.'), ('certificate', 'NN'), ('issued', 'VBD'), ('to', 'TO'), ('student', 'VB'), ('for', 'IN'), ('course', 'NN'), ('.', '.')]\n",
            "After pre-processing\n",
            "[('student', 'NN'), ('enrolls', 'VBP'), ('in', 'IN'), ('course', 'NN'), ('.', '.'), ('student', 'NN'), ('has', 'VBZ'), ('studentid', 'VBN'), (',', ','), ('name', 'NN'), (',', ','), ('email', 'NN'), (',', ','), ('major', 'NNS'), ('.', '.'), ('course', 'NN'), ('created', 'VBN'), ('by', 'IN'), ('instructor', 'NN'), ('.', '.'), ('course', 'NN'), ('has', 'VBZ'), ('courseid', 'VBN'), (',', ','), ('title', 'NN'), (',', ','), ('syllabus', 'NN'), (',', ','), ('instructorid', 'NNS'), ('.', '.'), ('instructor', 'NN'), ('has', 'VBZ'), ('instructorid', 'VBN'), (',', ','), ('name', 'NN'), (',', ','), ('email', 'NN'), (',', ','), ('department', 'NN'), ('.', '.'), ('course', 'NN'), ('has', 'VBZ'), ('lesson', 'VBN'), ('.', '.'), ('course', 'NN'), ('has', 'VBZ'), ('quiz', 'VBN'), ('.', '.'), ('quiz', 'NN'), ('taken', 'VBN'), ('by', 'IN'), ('student', 'NN'), ('.', '.'), ('quiz', 'NN'), ('has', 'VBZ'), ('quizid', 'VBN'), (',', ','), ('courseid', 'NN'), (',', ','), ('title', 'NN'), (',', ','), ('date', 'NN'), ('.', '.'), ('certificate', 'NN'), ('issued', 'VBD'), ('to', 'TO'), ('student', 'VB'), ('for', 'IN'), ('course', 'NN'), ('.', '.')]\n",
            "True\n",
            "True\n",
            "True\n",
            "True\n",
            "True\n",
            "True\n",
            "True\n",
            "True\n",
            "True\n",
            "True\n",
            "True\n",
            "True\n",
            "True\n",
            "True\n",
            "True\n",
            "True\n",
            "['student', 'course', 'instructor', 'quiz']\n"
          ]
        }
      ]
    },
    {
      "cell_type": "code",
      "source": [
        "print(filtering_attributes(sentence_for_classes))"
      ],
      "metadata": {
        "colab": {
          "base_uri": "https://localhost:8080/"
        },
        "id": "HOWRPw99yvkl",
        "outputId": "7eda8d1d-a09f-4dcb-d3f3-f5999956eeb6"
      },
      "execution_count": null,
      "outputs": [
        {
          "output_type": "stream",
          "name": "stdout",
          "text": [
            "before pre-processing\n",
            "[('student', 'NN'), ('enrolls', 'NNS'), ('in', 'IN'), ('course', 'NN'), ('.', '.'), ('student', 'NN'), ('has', 'VBZ'), ('studentid', 'VBN'), (',', ','), ('name', 'NN'), (',', ','), ('email', 'NN'), (',', ','), ('major', 'JJ'), ('.', '.'), ('course', 'NN'), ('created', 'VBN'), ('by', 'IN'), ('instructor', 'NN'), ('.', '.'), ('course', 'NN'), ('has', 'VBZ'), ('courseid', 'VBN'), (',', ','), ('title', 'NN'), (',', ','), ('syllabus', 'NN'), (',', ','), ('instructorid', 'JJ'), ('.', '.'), ('instructor', 'NN'), ('has', 'VBZ'), ('instructorid', 'VBN'), (',', ','), ('name', 'NN'), (',', ','), ('email', 'NN'), (',', ','), ('department', 'NN'), ('.', '.'), ('course', 'NN'), ('has', 'VBZ'), ('lesson', 'VBN'), ('.', '.'), ('course', 'NN'), ('has', 'VBZ'), ('quiz', 'VBN'), ('.', '.'), ('quiz', 'NN'), ('taken', 'VBN'), ('by', 'IN'), ('student', 'NN'), ('.', '.'), ('quiz', 'NN'), ('has', 'VBZ'), ('quizid', 'VBN'), (',', ','), ('courseid', 'NN'), (',', ','), ('title', 'NN'), (',', ','), ('date', 'NN'), ('.', '.'), ('certificate', 'NN'), ('issued', 'VBD'), ('to', 'TO'), ('student', 'VB'), ('for', 'IN'), ('course', 'NN'), ('.', '.'), ('.', '.'), ('.', '.'), ('.', '.'), ('.', '.')]\n",
            "After pre-processing\n",
            "[('student', 'NN'), ('enrolls', 'VBP'), ('in', 'IN'), ('course', 'NN'), ('.', '.'), ('student', 'NN'), ('has', 'VBZ'), ('studentid', 'VBN'), (',', ','), ('name', 'NN'), (',', ','), ('email', 'NN'), (',', ','), ('major', 'NNS'), ('.', '.'), ('course', 'NN'), ('created', 'VBN'), ('by', 'IN'), ('instructor', 'NN'), ('.', '.'), ('course', 'NN'), ('has', 'VBZ'), ('courseid', 'VBN'), (',', ','), ('title', 'NN'), (',', ','), ('syllabus', 'NN'), (',', ','), ('instructorid', 'NNS'), ('.', '.'), ('instructor', 'NN'), ('has', 'VBZ'), ('instructorid', 'VBN'), (',', ','), ('name', 'NN'), (',', ','), ('email', 'NN'), (',', ','), ('department', 'NN'), ('.', '.'), ('course', 'NN'), ('has', 'VBZ'), ('lesson', 'VBN'), ('.', '.'), ('course', 'NN'), ('has', 'VBZ'), ('quiz', 'VBN'), ('.', '.'), ('quiz', 'NN'), ('taken', 'VBN'), ('by', 'IN'), ('student', 'NN'), ('.', '.'), ('quiz', 'NN'), ('has', 'VBZ'), ('quizid', 'VBN'), (',', ','), ('courseid', 'NN'), (',', ','), ('title', 'NN'), (',', ','), ('date', 'NN'), ('.', '.'), ('certificate', 'NN'), ('issued', 'VBD'), ('to', 'TO'), ('student', 'VB'), ('for', 'IN'), ('course', 'NN'), ('.', '.'), ('.', '.'), ('.', '.'), ('.', '.'), ('.', '.')]\n",
            "[]\n",
            "classes\n",
            "before pre-processing\n",
            "[('student', 'NN'), ('enrolls', 'NNS'), ('in', 'IN'), ('course', 'NN'), ('.', '.'), ('student', 'NN'), ('has', 'VBZ'), ('studentid', 'VBN'), (',', ','), ('name', 'NN'), (',', ','), ('email', 'NN'), (',', ','), ('major', 'JJ'), ('.', '.'), ('course', 'NN'), ('created', 'VBN'), ('by', 'IN'), ('instructor', 'NN'), ('.', '.'), ('course', 'NN'), ('has', 'VBZ'), ('courseid', 'VBN'), (',', ','), ('title', 'NN'), (',', ','), ('syllabus', 'NN'), (',', ','), ('instructorid', 'JJ'), ('.', '.'), ('instructor', 'NN'), ('has', 'VBZ'), ('instructorid', 'VBN'), (',', ','), ('name', 'NN'), (',', ','), ('email', 'NN'), (',', ','), ('department', 'NN'), ('.', '.'), ('course', 'NN'), ('has', 'VBZ'), ('lesson', 'VBN'), ('.', '.'), ('course', 'NN'), ('has', 'VBZ'), ('quiz', 'VBN'), ('.', '.'), ('quiz', 'NN'), ('taken', 'VBN'), ('by', 'IN'), ('student', 'NN'), ('.', '.'), ('quiz', 'NN'), ('has', 'VBZ'), ('quizid', 'VBN'), (',', ','), ('courseid', 'NN'), (',', ','), ('title', 'NN'), (',', ','), ('date', 'NN'), ('.', '.'), ('certificate', 'NN'), ('issued', 'VBD'), ('to', 'TO'), ('student', 'VB'), ('for', 'IN'), ('course', 'NN'), ('.', '.')]\n",
            "After pre-processing\n",
            "[('student', 'NN'), ('enrolls', 'VBP'), ('in', 'IN'), ('course', 'NN'), ('.', '.'), ('student', 'NN'), ('has', 'VBZ'), ('studentid', 'VBN'), (',', ','), ('name', 'NN'), (',', ','), ('email', 'NN'), (',', ','), ('major', 'NNS'), ('.', '.'), ('course', 'NN'), ('created', 'VBN'), ('by', 'IN'), ('instructor', 'NN'), ('.', '.'), ('course', 'NN'), ('has', 'VBZ'), ('courseid', 'VBN'), (',', ','), ('title', 'NN'), (',', ','), ('syllabus', 'NN'), (',', ','), ('instructorid', 'NNS'), ('.', '.'), ('instructor', 'NN'), ('has', 'VBZ'), ('instructorid', 'VBN'), (',', ','), ('name', 'NN'), (',', ','), ('email', 'NN'), (',', ','), ('department', 'NN'), ('.', '.'), ('course', 'NN'), ('has', 'VBZ'), ('lesson', 'VBN'), ('.', '.'), ('course', 'NN'), ('has', 'VBZ'), ('quiz', 'VBN'), ('.', '.'), ('quiz', 'NN'), ('taken', 'VBN'), ('by', 'IN'), ('student', 'NN'), ('.', '.'), ('quiz', 'NN'), ('has', 'VBZ'), ('quizid', 'VBN'), (',', ','), ('courseid', 'NN'), (',', ','), ('title', 'NN'), (',', ','), ('date', 'NN'), ('.', '.'), ('certificate', 'NN'), ('issued', 'VBD'), ('to', 'TO'), ('student', 'VB'), ('for', 'IN'), ('course', 'NN'), ('.', '.')]\n",
            "True\n",
            "True\n",
            "True\n",
            "True\n",
            "True\n",
            "True\n",
            "True\n",
            "True\n",
            "True\n",
            "True\n",
            "True\n",
            "True\n",
            "True\n",
            "True\n",
            "True\n",
            "True\n",
            "student\n",
            "['Venrolls', 'Vstudentid', 'Jname', 'Jemail', 'Jmajor']\n",
            "course\n",
            "['Vcourseid', 'Jtitle', 'Jsyllabus', 'Jinstructorid', 'Vlesson']\n",
            "instructor\n",
            "['Vinstructorid', 'Jname', 'Jemail', 'Jdepartment']\n",
            "quiz\n",
            "['Vquizid', 'Jcourseid', 'Jtitle', 'Jdate']\n",
            "attributes\n",
            "{'student': ['name', 'email', 'major'], 'course': ['title', 'syllabus', 'instructorid'], 'instructor': ['name', 'email', 'department'], 'quiz': ['courseid', 'title', 'date']}\n"
          ]
        }
      ]
    }
  ]
}